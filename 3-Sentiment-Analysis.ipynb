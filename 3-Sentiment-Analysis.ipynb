{
 "cells": [
  {
   "cell_type": "markdown",
   "metadata": {},
   "source": [
    "## Mic Check / Introduction\n",
    "We are about to perform a sentiment analysis using TextBlob to process our data. What is TextBlob?\n",
    "- [TextBlob](https://textblob.readthedocs.io/en/dev/) is a Python (2 and 3) library for processing textual data. It provides a simple API for diving into common natural language processing (NLP) tasks such as part-of-speech tagging, noun phrase extraction, sentiment analysis, classification, translation, and more. [[docs]](https://textblob.readthedocs.io/en/dev/)\n",
    "\n",
    "So, our goal is to label every word in a corpus in terms of polarity and subjectivity. A corpus' sentiment is the average of these.\n",
    "- Polarity: How positive or negative a word is. -1 is very negative. +1 is very positive.\n",
    "- Subjectivity: How subjective, or opinionated a word is. 0 is fact. +1 is very much an opinion."
   ]
  },
  {
   "cell_type": "code",
   "execution_count": 28,
   "metadata": {},
   "outputs": [],
   "source": [
    "import pandas\n",
    "from textblob import TextBlob\n",
    "import matplotlib.pyplot as plt\n",
    "\n",
    "data = pandas.read_pickle('corpus.pkl')"
   ]
  },
  {
   "cell_type": "markdown",
   "metadata": {},
   "source": [
    "Let's first take a look at the state of our data."
   ]
  },
  {
   "cell_type": "code",
   "execution_count": 29,
   "metadata": {},
   "outputs": [
    {
     "data": {
      "text/html": [
       "<div>\n",
       "<style scoped>\n",
       "    .dataframe tbody tr th:only-of-type {\n",
       "        vertical-align: middle;\n",
       "    }\n",
       "\n",
       "    .dataframe tbody tr th {\n",
       "        vertical-align: top;\n",
       "    }\n",
       "\n",
       "    .dataframe thead th {\n",
       "        text-align: right;\n",
       "    }\n",
       "</style>\n",
       "<table border=\"1\" class=\"dataframe\">\n",
       "  <thead>\n",
       "    <tr style=\"text-align: right;\">\n",
       "      <th></th>\n",
       "      <th>lyrics</th>\n",
       "      <th>name</th>\n",
       "    </tr>\n",
       "  </thead>\n",
       "  <tbody>\n",
       "    <tr>\n",
       "      <th>biggie</th>\n",
       "      <td>the ten crack commandments what nigga...</td>\n",
       "      <td>The Notorious B.I.G.</td>\n",
       "    </tr>\n",
       "    <tr>\n",
       "      <th>fifty</th>\n",
       "      <td>man we gotta go get somethin to eat man im hun...</td>\n",
       "      <td>50 Cent</td>\n",
       "    </tr>\n",
       "    <tr>\n",
       "      <th>game</th>\n",
       "      <td>im a bldoubleod been on songs with sndoubleop ...</td>\n",
       "      <td>The Game</td>\n",
       "    </tr>\n",
       "    <tr>\n",
       "      <th>nas</th>\n",
       "      <td>but thats the whole tragic point my friends wh...</td>\n",
       "      <td>Nas</td>\n",
       "    </tr>\n",
       "    <tr>\n",
       "      <th>snoop</th>\n",
       "      <td>ugh hahaha im serious nigga one of yall niggas...</td>\n",
       "      <td>Snoop Doggy Dogg</td>\n",
       "    </tr>\n",
       "    <tr>\n",
       "      <th>tupac</th>\n",
       "      <td>how many brothers fell victim to the streets r...</td>\n",
       "      <td>Tupac Amaru</td>\n",
       "    </tr>\n",
       "  </tbody>\n",
       "</table>\n",
       "</div>"
      ],
      "text/plain": [
       "                                                   lyrics  \\\n",
       "biggie           the ten crack commandments what nigga...   \n",
       "fifty   man we gotta go get somethin to eat man im hun...   \n",
       "game    im a bldoubleod been on songs with sndoubleop ...   \n",
       "nas     but thats the whole tragic point my friends wh...   \n",
       "snoop   ugh hahaha im serious nigga one of yall niggas...   \n",
       "tupac   how many brothers fell victim to the streets r...   \n",
       "\n",
       "                        name  \n",
       "biggie  The Notorious B.I.G.  \n",
       "fifty                50 Cent  \n",
       "game                The Game  \n",
       "nas                      Nas  \n",
       "snoop       Snoop Doggy Dogg  \n",
       "tupac            Tupac Amaru  "
      ]
     },
     "execution_count": 29,
     "metadata": {},
     "output_type": "execute_result"
    }
   ],
   "source": [
    "data"
   ]
  },
  {
   "cell_type": "markdown",
   "metadata": {},
   "source": [
    "Next stop: we will create lambda functions to calculate the polarity and subjectivity of each rapper."
   ]
  },
  {
   "cell_type": "code",
   "execution_count": 30,
   "metadata": {},
   "outputs": [
    {
     "data": {
      "text/html": [
       "<div>\n",
       "<style scoped>\n",
       "    .dataframe tbody tr th:only-of-type {\n",
       "        vertical-align: middle;\n",
       "    }\n",
       "\n",
       "    .dataframe tbody tr th {\n",
       "        vertical-align: top;\n",
       "    }\n",
       "\n",
       "    .dataframe thead th {\n",
       "        text-align: right;\n",
       "    }\n",
       "</style>\n",
       "<table border=\"1\" class=\"dataframe\">\n",
       "  <thead>\n",
       "    <tr style=\"text-align: right;\">\n",
       "      <th></th>\n",
       "      <th>lyrics</th>\n",
       "      <th>name</th>\n",
       "      <th>polarity</th>\n",
       "      <th>subjectivity</th>\n",
       "    </tr>\n",
       "  </thead>\n",
       "  <tbody>\n",
       "    <tr>\n",
       "      <th>biggie</th>\n",
       "      <td>the ten crack commandments what nigga...</td>\n",
       "      <td>The Notorious B.I.G.</td>\n",
       "      <td>0.023304</td>\n",
       "      <td>0.503563</td>\n",
       "    </tr>\n",
       "    <tr>\n",
       "      <th>fifty</th>\n",
       "      <td>man we gotta go get somethin to eat man im hun...</td>\n",
       "      <td>50 Cent</td>\n",
       "      <td>0.037174</td>\n",
       "      <td>0.551940</td>\n",
       "    </tr>\n",
       "    <tr>\n",
       "      <th>game</th>\n",
       "      <td>im a bldoubleod been on songs with sndoubleop ...</td>\n",
       "      <td>The Game</td>\n",
       "      <td>0.003092</td>\n",
       "      <td>0.436697</td>\n",
       "    </tr>\n",
       "    <tr>\n",
       "      <th>nas</th>\n",
       "      <td>but thats the whole tragic point my friends wh...</td>\n",
       "      <td>Nas</td>\n",
       "      <td>-0.012667</td>\n",
       "      <td>0.452843</td>\n",
       "    </tr>\n",
       "    <tr>\n",
       "      <th>snoop</th>\n",
       "      <td>ugh hahaha im serious nigga one of yall niggas...</td>\n",
       "      <td>Snoop Doggy Dogg</td>\n",
       "      <td>-0.020491</td>\n",
       "      <td>0.481471</td>\n",
       "    </tr>\n",
       "    <tr>\n",
       "      <th>tupac</th>\n",
       "      <td>how many brothers fell victim to the streets r...</td>\n",
       "      <td>Tupac Amaru</td>\n",
       "      <td>0.058860</td>\n",
       "      <td>0.442701</td>\n",
       "    </tr>\n",
       "  </tbody>\n",
       "</table>\n",
       "</div>"
      ],
      "text/plain": [
       "                                                   lyrics  \\\n",
       "biggie           the ten crack commandments what nigga...   \n",
       "fifty   man we gotta go get somethin to eat man im hun...   \n",
       "game    im a bldoubleod been on songs with sndoubleop ...   \n",
       "nas     but thats the whole tragic point my friends wh...   \n",
       "snoop   ugh hahaha im serious nigga one of yall niggas...   \n",
       "tupac   how many brothers fell victim to the streets r...   \n",
       "\n",
       "                        name  polarity  subjectivity  \n",
       "biggie  The Notorious B.I.G.  0.023304      0.503563  \n",
       "fifty                50 Cent  0.037174      0.551940  \n",
       "game                The Game  0.003092      0.436697  \n",
       "nas                      Nas -0.012667      0.452843  \n",
       "snoop       Snoop Doggy Dogg -0.020491      0.481471  \n",
       "tupac            Tupac Amaru  0.058860      0.442701  "
      ]
     },
     "execution_count": 30,
     "metadata": {},
     "output_type": "execute_result"
    }
   ],
   "source": [
    "pol = lambda x: TextBlob(x).sentiment.polarity\n",
    "sub = lambda x: TextBlob(x).sentiment.subjectivity\n",
    "\n",
    "data['polarity'] = data['lyrics'].apply(pol)\n",
    "data['subjectivity'] = data['lyrics'].apply(sub)\n",
    "data"
   ]
  },
  {
   "cell_type": "markdown",
   "metadata": {},
   "source": [
    "Well that's something. We now know that Tupac is the most positive and he the least subjective in his lyrics, while 50 Cent is most subjective.\n",
    "\n",
    "But, how does TextBlob know what words mean? Well, lingvists have given different labels to all the words in the English vocabulary and TextBlob is a library that wraps that knowledge. Let's see an example:"
   ]
  },
  {
   "cell_type": "code",
   "execution_count": 31,
   "metadata": {},
   "outputs": [
    {
     "data": {
      "text/plain": [
       "Sentiment(polarity=0.6, subjectivity=1.0)"
      ]
     },
     "execution_count": 31,
     "metadata": {},
     "output_type": "execute_result"
    }
   ],
   "source": [
    "TextBlob('nice').sentiment"
   ]
  },
  {
   "cell_type": "markdown",
   "metadata": {},
   "source": [
    "The output says that the word 'nice' transmits 60% of the positivity a word can transmit, while it's 100% of subjective nature. "
   ]
  },
  {
   "cell_type": "code",
   "execution_count": 32,
   "metadata": {},
   "outputs": [
    {
     "data": {
      "image/png": "[encoded data removed]",
      "text/plain": [
       "<Figure size 720x576 with 1 Axes>"
      ]
     },
     "metadata": {
      "needs_background": "light"
     },
     "output_type": "display_data"
    }
   ],
   "source": [
    "plt.rcParams['figure.figsize'] = [10, 8]\n",
    "\n",
    "for index, rapper in enumerate(data.index):\n",
    "    x = data.polarity.loc[rapper]\n",
    "    y = data.subjectivity.loc[rapper]\n",
    "    plt.scatter(x, y, color='blue')\n",
    "    plt.text(x+.001, y+.001, data['name'][index], fontsize=10)\n",
    "    plt.xlim(-.03, .07) \n",
    "    \n",
    "plt.title('Sentiment Analysis', fontsize=20)\n",
    "plt.xlabel('Positivity', fontsize=15)\n",
    "plt.ylabel('Objectivity', fontsize=15)\n",
    "\n",
    "plt.show()"
   ]
  }
 ],
 "metadata": {
  "kernelspec": {
   "display_name": "Python 3",
   "language": "python",
   "name": "python3"
  },
  "language_info": {
   "codemirror_mode": {
    "name": "ipython",
    "version": 3
   },
   "file_extension": ".py",
   "mimetype": "text/x-python",
   "name": "python",
   "nbconvert_exporter": "python",
   "pygments_lexer": "ipython3",
   "version": "3.7.3"
  }
 },
 "nbformat": 4,
 "nbformat_minor": 2
}
