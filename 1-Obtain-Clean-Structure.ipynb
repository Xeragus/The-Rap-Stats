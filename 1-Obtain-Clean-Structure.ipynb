{
 "cells": [
  {
   "cell_type": "markdown",
   "metadata": {},
   "source": [
    "## Mic check / Introduction\n",
    "Rap music has been one of the most influential music genres for the biggest part of the last quarter century. It all started by the name of \"Rhythm and Poetry\", meaning, words mean the world here. This data analysis will try to shed more light on the way the most influential rappers, well, rap.\n",
    "\n",
    "The purpose of this project is to analyze 5 songs per rapper. We analyze 6 rappers, meaning our data will contain lyrics from 30 songs. The goal of our analysis is to make conclusions on the positivity and the subjectivity of the rappers, as well as the size of their vocabulary.\n",
    "\n",
    "This project, as hopefully every other data science project, will go through the notorious process of \"Data Cleaning\". It's boring and all that, yet it's absoulutely vital for the sanity of our results. If you put sour food in the juicer, you can't really expect not to get sour juice, right? Feed a model with bad data, it feeds you with bad results. In the world of data science, it's almost impossible to completely clean your data, yet we should always try to minimize the garbage, so we can maximize the correctness of our output.\n",
    "\n",
    "Clean data is not enough. We need properly structured data. Why? Well, algorithms have a thing for properly structured data. Organizing data in the right way makes it easier for algorithms to extract better information.\n",
    "\n",
    "It's worth noting that the choice of rappers and songs is totally subjective. You could to this analysis for any musician, author, poet or any other text content producer. Good luck with cleaning data for mumble rap lyrics though.\n",
    "\n",
    "That said, let's see the final list of steps we will go through before we actually do some really cool stuff with our data:\n",
    "\n",
    "1. Optain data\n",
    "2. Clean data\n",
    "3. Structure data\n",
    "    1. **Corpus** - collection of song lyrics from every rapper\n",
    "   \n",
    "    2. **Word Matrix** - matrix format of every word used in the Corpus\n",
    "    \n",
    "As we will notice, the \"Clean data\" and \"Structure data\" steps are dependent and could be executed in parallel.\n",
    "\n",
    "Finally, two days ago, on June 16, it was Tupac's birthday. So this is my way of saying \"Happy birthday, man\".\n",
    "\n",
    "## 1. Optain data\n",
    "Here is the list of rappers and songs we will optain data for:\n",
    "1. Tupac Amaru Shakur\n",
    "    1. \"Life Goes On\"\n",
    "    2. \"Unconditional Love\"\n",
    "    3. \"Changes\"\n",
    "    4. \"Until The End Of Time\"\n",
    "    5. \"Dear Mama\"\n",
    "2. The Notorious B.I.G.\n",
    "    1. \"Ten Crack Commandments\"\n",
    "    2. \"Hypnotize\"\n",
    "    3. \"Juicy\"\n",
    "    4. \"One More Chance\"\n",
    "    5. \"Big Poppa\"\n",
    "3. Snoop Doggy Dogg\n",
    "    1. \"What's My Name?\"\n",
    "    2. \"Gin And Juice\"\n",
    "    3. \"That's That Shit\"\n",
    "    4. \"The Doggfather\"\n",
    "    5. \"Eastside Party\"\n",
    "4. Nas\n",
    "    1. \"N.Y. State Of Mind\"\n",
    "    2. \"Nas Is Like\"\n",
    "    3. \"Surviving The Times\"\n",
    "    4. \"The Message\"\n",
    "    5. \"Memory Lane\"\n",
    "5. The Game\n",
    "    1. \"Where I'm From\"\n",
    "    2. \"One Night\"\n",
    "    3. \"Don't Need That Love\"\n",
    "    4. \"Laugh\"\n",
    "    5. \"Too Much\"\n",
    "6. 50 Cent\n",
    "    1. \"Hustler's Ambition\"\n",
    "    2. \"Window Shopper\"\n",
    "    3. \"If I Can't\"\n",
    "    4. \"Many Men\"\n",
    "    5. \"When It Rains It Pours\"\n",
    "7. Eminem\n",
    "    1. \"Rap God\"\n",
    "    2. \"Phenomenal\"\n",
    "    3. \"Wicked Ways\"\n",
    "    4. \"Kings Never Die\"\n",
    "    5. \"The Ringer\"\n",
    "\n",
    "We will find the lyrics on www.genius.com and store the URLs in variables:\n",
    "    "
   ]
  },
  {
   "cell_type": "code",
   "execution_count": 19,
   "metadata": {},
   "outputs": [],
   "source": [
    "# We will use Requests and BeatufiulSoup for scraping\n",
    "import requests\n",
    "from bs4 import BeautifulSoup\n",
    "# We will use Pickle and OS to create folders and and store files\n",
    "import pickle\n",
    "import os\n",
    "# We will use Pandas to structure and maintain our data\n",
    "import pandas\n",
    "# We will use Re and String modules when we start cleaning our data\n",
    "import re\n",
    "import string\n",
    "# We will use this module in the 'Cleaning Data' and 'Structure Data' steps\n",
    "from sklearn.feature_extraction.text import CountVectorizer\n",
    "\n",
    "# Storing URLs to the Tupac songs lyrics\n",
    "tupac_urls = ['https://genius.com/2pac-life-goes-on-lyrics',\n",
    "             'https://genius.com/2pac-unconditional-love-lyrics',\n",
    "             'https://genius.com/2pac-changes-lyrics',\n",
    "             'https://genius.com/2pac-until-the-end-of-time-lyrics',\n",
    "             'https://genius.com/2pac-dear-mama-lyrics']\n",
    "\n",
    "# Storing URLs to the Biggie songs lyrics\n",
    "biggie_urls = ['https://genius.com/The-notorious-big-ten-crack-commandments-lyrics',\n",
    "              'https://genius.com/The-notorious-big-one-more-chance-lyrics',\n",
    "              'https://genius.com/The-notorious-big-big-poppa-lyrics',\n",
    "              'https://genius.com/The-notorious-big-juicy-lyrics',\n",
    "              'https://genius.com/The-notorious-big-hypnotize-lyrics']\n",
    "\n",
    "# Storing URLs to the Snoop songs lyrics\n",
    "snoop_urls = ['https://genius.com/Snoop-dogg-gin-and-juice-lyrics',\n",
    "             'https://genius.com/Snoop-dogg-thats-that-shit-lyrics',\n",
    "             'https://genius.com/Snoop-dogg-tha-doggfather-lyrics',\n",
    "             'https://genius.com/Snoop-dogg-eastside-party-lyrics',\n",
    "             'https://genius.com/Snoop-dogg-who-am-i-lyrics']\n",
    "\n",
    "# Storing URLs to the Nas songs lyrics\n",
    "nas_urls = ['https://genius.com/Nas-surviving-the-times-lyrics',\n",
    "           'https://genius.com/Nas-nas-is-like-lyrics',\n",
    "           'https://genius.com/Nas-ny-state-of-mind-lyrics',\n",
    "           'https://genius.com/Nas-the-message-lyrics',\n",
    "           'https://genius.com/Nas-memory-lane-sittin-in-da-park-lyrics']\n",
    "\n",
    "# Storing URLs to the The Game songs lyrics\n",
    "game_urls = ['https://genius.com/The-game-where-im-from-lyrics',\n",
    "            'https://genius.com/The-game-one-night-lyrics',\n",
    "            'https://genius.com/The-game-dont-need-your-love-lyrics',\n",
    "            'https://genius.com/The-game-laugh-lyrics',\n",
    "            'https://genius.com/The-game-too-much-lyrics']\n",
    "\n",
    "# Storing URLs to the 50 Cent songs lyrics\n",
    "fifty_urls = ['https://genius.com/50-cent-many-men-wish-death-lyrics',\n",
    "            'https://genius.com/50-cent-hustlers-ambition-lyrics',\n",
    "            'https://genius.com/50-cent-if-i-cant-lyrics',\n",
    "            'https://genius.com/50-cent-window-shopper-lyrics',\n",
    "            'https://genius.com/50-cent-when-it-rains-it-pours-lyrics']\n",
    "\n",
    "eminem_urls = ['https://genius.com/Eminem-rap-god-lyrics',\n",
    "               'https://genius.com/Eminem-phenomenal-lyrics',\n",
    "              'https://genius.com/Eminem-wicked-ways-lyrics',\n",
    "              'https://genius.com/Eminem-kings-never-die-lyrics',\n",
    "              'https://genius.com/Eminem-the-ringer-lyrics']"
   ]
  },
  {
   "cell_type": "markdown",
   "metadata": {},
   "source": [
    "Next, we need a function that will take a URL and return the scraped text."
   ]
  },
  {
   "cell_type": "code",
   "execution_count": 20,
   "metadata": {},
   "outputs": [],
   "source": [
    "# Function that takes a URL as parameter, scrapes the Genius page at that URL, extracts and returns the lyrics\n",
    "def fetch_lyrics(url):\n",
    "    print(url)\n",
    "    \n",
    "    page = requests.get(url)\n",
    "    html = BeautifulSoup(page.text, \"html.parser\")\n",
    "    lyrics = html.find(\"div\", class_=\"lyrics\").get_text()\n",
    "    \n",
    "    return lyrics"
   ]
  },
  {
   "cell_type": "markdown",
   "metadata": {},
   "source": [
    "Now that we have a function, we will use it to fetch lyrics. This could take a couple of minutes. You will see the URL of the scraped page printed out."
   ]
  },
  {
   "cell_type": "code",
   "execution_count": 21,
   "metadata": {
    "scrolled": true
   },
   "outputs": [
    {
     "name": "stdout",
     "output_type": "stream",
     "text": [
      "https://genius.com/2pac-life-goes-on-lyrics\n",
      "https://genius.com/2pac-unconditional-love-lyrics\n",
      "https://genius.com/2pac-changes-lyrics\n",
      "https://genius.com/2pac-until-the-end-of-time-lyrics\n",
      "https://genius.com/2pac-dear-mama-lyrics\n",
      "https://genius.com/The-notorious-big-ten-crack-commandments-lyrics\n",
      "https://genius.com/The-notorious-big-one-more-chance-lyrics\n",
      "https://genius.com/The-notorious-big-big-poppa-lyrics\n",
      "https://genius.com/The-notorious-big-juicy-lyrics\n",
      "https://genius.com/The-notorious-big-hypnotize-lyrics\n",
      "https://genius.com/Snoop-dogg-gin-and-juice-lyrics\n",
      "https://genius.com/Snoop-dogg-thats-that-shit-lyrics\n",
      "https://genius.com/Snoop-dogg-tha-doggfather-lyrics\n",
      "https://genius.com/Snoop-dogg-eastside-party-lyrics\n",
      "https://genius.com/Snoop-dogg-who-am-i-lyrics\n",
      "https://genius.com/Nas-surviving-the-times-lyrics\n",
      "https://genius.com/Nas-nas-is-like-lyrics\n",
      "https://genius.com/Nas-ny-state-of-mind-lyrics\n",
      "https://genius.com/Nas-the-message-lyrics\n",
      "https://genius.com/Nas-memory-lane-sittin-in-da-park-lyrics\n",
      "https://genius.com/The-game-where-im-from-lyrics\n",
      "https://genius.com/The-game-one-night-lyrics\n",
      "https://genius.com/The-game-dont-need-your-love-lyrics\n",
      "https://genius.com/The-game-laugh-lyrics\n",
      "https://genius.com/The-game-too-much-lyrics\n",
      "https://genius.com/50-cent-many-men-wish-death-lyrics\n",
      "https://genius.com/50-cent-hustlers-ambition-lyrics\n",
      "https://genius.com/50-cent-if-i-cant-lyrics\n",
      "https://genius.com/50-cent-window-shopper-lyrics\n",
      "https://genius.com/50-cent-when-it-rains-it-pours-lyrics\n",
      "https://genius.com/Eminem-rap-god-lyrics\n",
      "https://genius.com/Eminem-phenomenal-lyrics\n",
      "https://genius.com/Eminem-wicked-ways-lyrics\n",
      "https://genius.com/Eminem-kings-never-die-lyrics\n",
      "https://genius.com/Eminem-the-ringer-lyrics\n"
     ]
    }
   ],
   "source": [
    "# We will store the lyrics in this dictionary\n",
    "lyrics = {}\n",
    "lyrics['tupac'] = [fetch_lyrics(url) for url in tupac_urls]\n",
    "lyrics['biggie'] = [fetch_lyrics(url) for url in biggie_urls]\n",
    "lyrics['snoop'] = [fetch_lyrics(url) for url in snoop_urls]\n",
    "lyrics['nas'] = [fetch_lyrics(url) for url in nas_urls]\n",
    "lyrics['game'] = [fetch_lyrics(url) for url in game_urls]\n",
    "lyrics['fifty'] = [fetch_lyrics(url) for url in fifty_urls]\n",
    "lyrics['eminem'] = [fetch_lyrics(url) for url in eminem_urls]"
   ]
  },
  {
   "cell_type": "markdown",
   "metadata": {},
   "source": [
    "We could print out the lyrics collection for one rapper just to see that our scraping was successful."
   ]
  },
  {
   "cell_type": "code",
   "execution_count": 18,
   "metadata": {},
   "outputs": [],
   "source": [
    "#print(lyrics['tupac'])"
   ]
  },
  {
   "cell_type": "markdown",
   "metadata": {},
   "source": [
    "Now that we have scraped our data, we need to organize it. We will save the lyrics collection for every rapper in a separate file using Pickle, which we imported at the start. Pickle is used in Python for object serialization. The files will be saved in a directory that we will create, if it doesn't already exist."
   ]
  },
  {
   "cell_type": "code",
   "execution_count": 10,
   "metadata": {},
   "outputs": [],
   "source": [
    "# Create the directory where we will keep the lyrics files\n",
    "if not os.path.exists('lyrics'):\n",
    "    os.makedirs('lyrics')\n",
    "    \n",
    "rappers = ['tupac', 'biggie', 'snoop', 'nas', 'game', 'fifty', 'eminem']\n",
    "\n",
    "# Create named files\n",
    "for i, rapper in enumerate(rappers):\n",
    "    with open(\"lyrics/\" + rapper + \".txt\", \"wb\") as file:\n",
    "        pickle.dump(lyrics[rapper], file)"
   ]
  },
  {
   "cell_type": "markdown",
   "metadata": {},
   "source": [
    "We will read the data from the files and apply a few cleaning techniques to it."
   ]
  },
  {
   "cell_type": "code",
   "execution_count": 11,
   "metadata": {},
   "outputs": [],
   "source": [
    "data = {}\n",
    "\n",
    "for i, rapper in enumerate(rappers):\n",
    "    with open(\"lyrics/\" + rapper + \".txt\", \"rb\") as file:\n",
    "        data[rapper] = pickle.load(file)"
   ]
  },
  {
   "cell_type": "markdown",
   "metadata": {},
   "source": [
    "At this point you could check if data was loaded correctly. We are done with obtaining data, now we proceed to the second step, cleaning data."
   ]
  },
  {
   "cell_type": "code",
   "execution_count": 16,
   "metadata": {},
   "outputs": [],
   "source": [
    "#data.keys()"
   ]
  },
  {
   "cell_type": "code",
   "execution_count": 17,
   "metadata": {},
   "outputs": [],
   "source": [
    "#data['tupac']"
   ]
  },
  {
   "cell_type": "markdown",
   "metadata": {},
   "source": [
    "Notice that we actually have a list of song lyrics instead of one single text."
   ]
  },
  {
   "cell_type": "markdown",
   "metadata": {},
   "source": [
    "## 2. Clean Data \n",
    "The techniques used to clean textual data are called \"text pre-processing techniques\". We will use few of those, but won't go to any advanced data cleaning. We will go through the following techniques:\n",
    "1. Remove garbage characters (like \"/n\", \"[]\" and so on)\n",
    "2. Remove punctuation\n",
    "3. Remove numerical values\n",
    "4. Make all text lowercase\n",
    "5. Remove stop words\n",
    "\n",
    "First, we will structure the data in a better way. As noticed before, our data per rapper is a list of lyrics. So, we have to transform it into one single text. We will write a function that will accept a list of lyrics and will return one single text. That can only mean one thing...\n",
    "\n",
    "## 3. Structure data\n",
    "So, first we will merge our data into single text, and then we will put it in the following formats:\n",
    "- Corpus - collection of song lyrics from every rapper\n",
    "- Word Matrix - matrix format of every word used in the Corpus\n",
    "\n",
    "We will move back and forth between cleaning and structuring data, as we can't efficiently clean badly structured data."
   ]
  },
  {
   "cell_type": "code",
   "execution_count": 14,
   "metadata": {},
   "outputs": [],
   "source": [
    "def merge_lyrics(list_of_lyrics):\n",
    "    merged_text = ' '.join(list_of_lyrics)\n",
    "    return merged_text\n",
    "\n",
    "merged_data = {key: [merge_lyrics(value)] for (key, value) in data.items()}"
   ]
  },
  {
   "cell_type": "markdown",
   "metadata": {},
   "source": [
    "Let's try it out. We will print the data before and after executing this function."
   ]
  },
  {
   "cell_type": "code",
   "execution_count": 15,
   "metadata": {},
   "outputs": [
    {
     "data": {
      "text/plain": [
       "['\\n\\n[Chorus]\\nHow many brothers fell victim to the streets?\\nRest in peace, young nigga, there\\'s a heaven for a G\\nBe a lie If I told you that I never thought of death\\nMy niggas, we the last ones left, but life goes on\\nHow many brothers fell victim to the streets?\\nRest in peace, young nigga, there\\'s a heaven for a G\\nBe a lie If I told you that I never thought of death\\nMy niggas, we the last ones left, but life goes on\\n\\n[Verse 1]\\nAs I bail through the empty halls, breath stinkin\\' in my jaws\\nRing, ring, ring — quiet, y\\'all, incomin\\' call\\nPlus this my homie from high school, he gettin\\' by\\nIt\\'s time to bury another brother, nobody cry\\nLife as a baller: alcohol and booty calls\\nWe used to do \\'em as adolescents, do you recall?\\nRaised as G\\'s, loc\\'ed out, and blazed the weed\\nGet on the roof, let\\'s get smoked out, and blaze with me\\nTwo in the morning and we still high, assed out\\nScreamin\\', \"Thug \\'til I die!\" before I passed out\\nBut now that you\\'re gone, I\\'m in the zone\\nThinkin\\' I don\\'t wanna die all alone, but now you gone\\nAnd all I got left are stinkin\\' memories\\nI love them niggas to death, I\\'m drinkin\\' Hennessy\\nWhile tryin\\' to make it last\\nI drank a fifth for that ass when you passed, \\'cause life goes on\\n\\n[Chorus]\\nHow many brothers fell victim to the streets?\\nRest in peace, young nigga, there\\'s a heaven for a G\\nBe a lie If I told you that I never thought of death\\nMy niggas, we the last ones left, but life goes on\\nHow many brothers fell victim to the streets?\\nRest in peace, young nigga, there\\'s a heaven for a G\\nBe a lie If I told you that I never thought of death\\nMy niggas, we the last ones left, and life goes on\\n\\n[Verse 2]\\nYeah nigga, I got the word it\\'s hell\\nYou blew trial and the judge gave you 25 with an L\\nTime to prepare to do fed time, won\\'t see parole\\nImagine life as a convict that\\'s gettin\\' old\\nPlus with the drama, we\\'re lookin\\' out for your baby\\'s mama\\nTakin\\' risks, while keepin\\' cheap tricks from gettin\\' on her\\nLife in the hood is all good for nobody\\nRemember gamin\\' on dumb hotties at yo\\' party\\nMe and you, no truer two, while schemin\\' on hits\\nAnd gettin\\' tricks that maybe we can slide into\\nBut now you buried — rest, nigga, \\'cause I ain\\'t worried\\nEyes blurry, sayin\\' goodbye at the cemetery\\nThough memories fade\\nI got your name tatted on my arm\\nSo we both ball \\'til my dyin\\' days\\nBefore I say goodbye\\nKato and Mental, rest in peace! Thug \\'til I die!\\n\\n[Chorus]\\nHow many brothers fell victim to the streets?\\nRest in peace, young nigga, there\\'s a heaven for a G\\nBe a lie If I told you that I never thought of death\\nMy niggas, we the last ones left, but life goes on\\nHow many brothers fell victim to the streets?\\nRest in peace, young nigga, there\\'s a heaven for a G\\nBe a lie If I told you that I never thought of death\\nMy niggas, we the last ones left, \\'cause life goes on\\n\\n[Verse 3]\\nBury me smilin\\' with G\\'s in my pocket\\nHave a party at my funeral, let every rapper rock it\\nLet the hoes that I used to know\\nFrom way befo\\' kiss me from my head to my toe\\nGive me a paper and a pen, so I can write about my life of sin\\nA couple bottles of gin, in case I don\\'t get in\\nTell all my people I\\'m a Ridah\\nNobody cries when we die, we Outlawz, let me ride\\nUntil I get free\\nI live my life in the fast lane, got police chasin\\' me\\nTo my niggas from old blocks, from old crews\\nNiggas that guided me through back in the old school\\nPour out some liquor, have a toast for the homies\\nSee, we both gotta die, but you chose to go before me\\nAnd brothers miss you while you gone\\nYou left your nigga on his own; how long we mourn? Life goes on\\n\\n[Chorus]\\nHow many brothers fell victim to the streets?\\nRest in peace, young nigga, there\\'s a heaven for a G\\nBe a lie If I told you that I never thought of death\\nMy niggas, we the last ones left, but life goes on\\nHow many brothers fell victim to the streets?\\nRest in peace, young nigga, there\\'s a heaven for a G\\nBe a lie If I told you that I never thought of death\\nMy niggas, we the last ones left, but life goes on\\n\\n[Outro]\\nLife goes on, homie\\nGone on, \\'cause they passed away\\nNiggas doin\\' life\\nNiggas doin\\' 50 and 60 years and shit\\nI feel you, nigga, trust me, I feel you\\nYou know what I mean?\\nLast year we poured out liquor for ya\\nThis year, nigga, life goes on, we\\'re gonna clock now\\nGet money, evade bitches, evade tricks\\nGive playa haters plenty of space\\nAnd basically just represent for you, baby\\nNext time you see your niggas, we gon\\' be on top, nigga\\nYou gon\\' be like, \"Goddamn, them niggas came up!\"\\nThat\\'s right, baby, life goes on\\nAnd we up out this bitch\\nHey, Kato! Mental!\\nY\\'all niggas make sure it\\'s poppin\\'\\nWhen we get up there, man, don\\'t front\\nLife goes on\\nHold me no more, hold me no more\\nYes it do, yes it do, yes it do\\n\\n',\n",
       " \"\\n\\n[Intro]\\n(What y'all want?)\\nUnconditional love (no doubt)\\nTalkin' about the stuff that don't wear off, it don't fade\\nIt'll last for all these crazy days, these crazy nights\\nWhether you wrong or you right\\nA motherfucker still love you, still feel you\\nStill there for you, no matter what (hehe)\\nYou will always be in my heart with unconditional love\\n\\n[Verse 1]\\nCome listen to my truest thoughts, my truest feelings\\nAll my peers doin' years beyond drug dealing\\nHow many caskets can we witness\\nBefore we see it's hard to live this life without God?\\nSo we must ask forgiveness\\nAsk Mama why I got this urge to die\\nWitness the tears fallin' free from my eyes before she could reply\\nThough we were born without a silver spoon\\nMy broken down TV show cartoons in my living room (hey)\\nOne day I hope to make it, a player in this game\\nMama, don't cry, long as we try maybe things change\\nPerhaps it's just a fantasy\\nA life where we don’t need no welfare and share with our whole family\\nMaybe it's me that caused it, the fightin' and the hurtin'\\nIn my room cryin' because I didn't wanna be a burden\\nWatch Mama open up her arms to hug me\\nAnd I ain't worried 'bout a damn thing, with unconditional love\\n\\n[Chorus]\\nIn this game, the lesson's in your eyes to see\\nThough things change, the future's still inside of me\\nWe must remember that tomorrow comes after the dark\\nSo you will always be in my heart, with unconditional love\\nIn this game, the lesson's in your eyes to see\\nThough things change, the future's still inside of me\\nWe must remember that tomorrow comes after the dark\\nSo you will always be in my heart, with unconditional love\\n\\n[Verse 2]\\nJust got the message, you've been callin' all week\\nBeen out here hustlin' on these streets\\nAin't had a chance to speak\\nBut you know, with you and me it's all G\\nWe could never be enemies\\n'Cause you've been such a good friend to me\\nWhere would I be without my dogs?\\nNo wonder why when times get hard\\n'Cause it ain't easy bein' who we are\\nDriven by my ambitions, desire higher positions\\nSo I proceed to make G's eternally\\nAnd my mission is to be more than just a rap musician\\nThe elevation of today's generation, if I could make 'em listen\\nPrison ain't what we need, no longer stuck in greed\\nTime to plan, strategize, my family's gotta eat\\nWe work somethin' out of nothin'\\nNo pleasure in the sufferin'\\nNeighborhood would be good if they could cut out all the bustin'\\nThe liquor and the weed, the cussin'\\nSendin' love out to my block\\nThe struggle never stops (unconditional love)\\n\\n[Chorus]\\nIn this game, the lesson's in your eyes to see\\nThough things change, the future's still inside of me\\nWe must remember that tomorrow comes after the dark\\nSo you will always be in my heart, with unconditional love\\nIn this game, the lesson's in your eyes to see\\nThough things change, the future's still inside of me\\nWe must remember that tomorrow comes after the dark\\nSo you will always be in my heart, with unconditional love\\n\\n[Verse 3]\\nI'll probably never understand your ways\\nWith everyday I swear I hear you tryin' to change your ways\\nWhile gettin' paid at the same time\\nJust had a baby with the same eyes\\nSomethin' inside, please let me die, these are strange times\\nHow come I never made it?\\nMaybe it's the way I played it in my heart\\nI knew one day I gotta be a star\\nMy hopes and all my wishes, so many vivid pictures\\nAnd all the currency I'll never even get to see\\nThis fast life soon shatters, 'cause after all the lights and screams nothin' but my dreams matter\\nHopin' for better days, maybe a peaceful night\\nBaby, don't cry, 'cause everything gon' be alright\\nJust lay your head on my shoulder\\nDon't worry 'bout a thing, baby girl, I'm a soldier (huh)\\nNever treated me bad, no matter who I was\\nYou still came with that unconditional love\\n\\n[Chorus] (repeat to fade)\\nIn this game, the lesson's in your eyes to see\\nThough things change, the future's still inside of me\\nWe must remember that tomorrow comes after the dark\\nSo you will always be in my heart, with unconditional love\\nIn this game, the lesson's in your eyes to see\\nThough things change, the future's still inside of me\\nWe must remember that tomorrow comes after the dark\\nSo you will always be in my heart, with unconditional love\\n\\n\",\n",
       " '\\n\\n[Verse 1: 2Pac]\\nI see no changes, wake up in the morning and I ask myself\\nIs life worth livin\\'? Should I blast myself?\\nI\\'m tired of bein\\' poor and, even worse, I\\'m black\\nMy stomach hurts so I\\'m lookin\\' for a purse to snatch\\nCops give a damn about a negro\\nPull the trigger, kill a nigga, he\\'s a hero\\n\"Give the crack to the kids, who the hell cares?\\nOne less hungry mouth on the welfare!\"\\nFirst ship \\'em dope and let \\'em deal to brothers\\nGive \\'em guns, step back, watch \\'em kill each other\\n\"It\\'s time to fight back,\" that\\'s what Huey said\\nTwo shots in the dark, now Huey\\'s dead\\nI got love for my brother\\nBut we can never go nowhere unless we share with each other\\nWe gotta start makin\\' changes\\nLearn to see me as a brother instead of two distant strangers\\nAnd that\\'s how it\\'s supposed to be\\nHow can the Devil take a brother if he\\'s close to me?\\nI\\'d love to go back to when we played as kids\\nBut things change… and that\\'s the way it is\\n\\n[Chorus: Talent]\\nThat\\'s just the way it is\\nThings\\'ll never be the same\\nThat\\'s just the way it is, aww yeah\\nThat\\'s just the way it is\\nThings\\'ll never be the same\\nThat\\'s just the way it is, aww yeah\\n\\n[Verse 2: 2Pac]\\nI see no changes, all I see is racist faces\\nMisplaced hate makes disgrace to races\\nWe under, I wonder what it takes to make this\\nOne better place, let\\'s erase the wasted\\nTake the evil out the people, they\\'ll be actin\\' right\\n‘Cause both black and white are smokin\\' crack tonight\\nAnd the only time we chill is when we kill each other\\nIt takes skill to be real, time to heal each other\\nAnd although it seems heaven-sent\\nWe ain\\'t ready to see a black president\\nIt ain\\'t a secret, don\\'t conceal the fact\\nThe penitentiary\\'s packed and it\\'s filled with blacks\\nBut some things will never change\\nTry to show another way but you stayin\\' in the dope game\\nNow tell me, what\\'s a mother to do?\\nBein\\' real don\\'t appeal to the brother in you\\nYou gotta operate the easy way\\n\"I made a G today,\" but you made it in a sleazy way\\nSellin\\' crack to the kids\\n\"I gotta get paid!\" — well hey, but that\\'s the way it is\\n\\n[Chorus: Talent]\\nThat\\'s just the way it is\\nThings\\'ll never be the same\\nThat\\'s just the way it is, aww yeah\\nThat\\'s just the way it is\\nThings\\'ll never be the same\\nThat\\'s just the way it is, aww yeah\\n\\n[Interlude: 2Pac]\\nWe gotta make a change\\nIt\\'s time for us as a people to start makin\\' some changes\\nLet\\'s change the way we eat\\nLet\\'s change the way we live\\nAnd let\\'s change the way we treat each other\\nYou see the old way wasn\\'t workin\\'\\nSo it\\'s on us to do what we gotta do to survive\\n\\n[Verse 3: 2Pac]\\nAnd still I see no changes; can\\'t a brother get a little peace?\\nIt\\'s war on the streets and a war in the Middle East\\nInstead of war on poverty\\nThey got a war on drugs so the police can bother me\\nAnd I ain\\'t never did a crime I ain\\'t have to do\\nBut now I\\'m back with the facts, givin\\' it back to you\\nDon\\'t let \\'em jack you up, back you up\\nCrack you up and pimp-smack you up\\nYou gotta learn to hold your own\\nThey get jealous when they see you with your mobile phone\\nBut tell the cops they can\\'t touch this\\nI don\\'t trust this, when they try to rush I bust this\\nThat\\'s the sound of my tool\\nYou say it ain\\'t cool, my mama didn\\'t raise no fool\\nAnd as long as I stay black, I gotta stay strapped\\nAnd I never get to lay back\\n‘Cause I always got to worry \\'bout the payback\\nSome buck that I roughed up way back\\nComin\\' back after all these years\\n\"Rat-a-tat-tat-tat-tat,\" that\\'s the way it is\\n\\n[Chorus: Talent]\\nThat\\'s just the way it is\\nThings\\'ll never be the same\\nThat\\'s just the way it is, aww yeah\\n(You\\'re my brother, you\\'re my sister)\\nThat\\'s just the way it is\\nThings\\'ll never be the same\\nThat\\'s just the way it is, aww yeah\\n\\n[Outro: 2Pac]\\nSome things\\'ll never change\\n\\n',\n",
       " \"\\n\\n[Produced By: Johnny J & Trackmasters]\\n\\n[Verse 1: 2Pac]\\nPerhaps I was addicted to the dark side\\nSomewhere inside my childhood witnessed my heart die\\nAnd even though we both came from the same places\\nThe money and the fame made us all change places\\nHow could it be? Through the misery that came to pass\\nThe hard times make a true friend afraid to ask\\nFor currency, but you could run to me when you need\\nAnd I'll never leave, honestly\\nSomeone to believe in, as you can see\\nIt's a small thing to a true, what could I do?\\nReal homies help you get through\\nAnd come to knew he'd do the same thing if he could\\n‘Cause in the hood, true homies make you feel good\\nAnd half the times we be actin' up, call the cops\\nBringin' a cease to the peace that was on my block\\nIt never stops, when my mama ask me will I change\\nI tell her yeah, but it's clear I'll always be the same\\nUntil the end of time\\n\\n[Hook: R.L. Huggar]\\nSo take these broken wings\\nI need your hands to come and heal me once again\\n(Until the end of time)\\nSo I can fly away, until the end of time\\nUntil the end of time, until the end of time\\n\\n[Verse 2: 2Pac]\\nPlease, Lord, forgive me for my life of sin\\nMy hard stare seem to scare all my sister's kids\\nSo you know, I don't hang around the house much\\nThis all-night money makin' got me outta touch\\nShit, ain't flashed a smile in a long while\\nAn unexpected birth worst of the ghetto childs\\nMy attitude got me walkin' solo\\nRide out alone in my lo-lo\\nWatchin' the whole world move in slow-mo\\nFor quiet times, disappear, listen to the ocean\\nSmokin' Ports, think my thoughts, then it's back to coastin'\\nWho can I trust in this cold world?\\nMy phony homie had a baby by my old girl\\nBut I ain't trippin', I'm a player, I ain't sweatin' him\\nI sexed his sister, had her mumble like a Mexican\\nHis next of kin, no remorse, it was meant to happen\\nBesides rappin', the only thing I did good was scrappin'\\nUntil the end of time\\n\\n[Hook: R.L. Huggar]\\nSo take these broken wings\\nI need your hands to come and heal me once again\\n(Until the end of time)\\nSo I can fly away, until the end of time\\nUntil the end of time, until the end of time\\n\\n[Verse 3: 2Pac]\\nNow who's to say if I was right or wrong\\nTo live my life as an outlaw all along?\\nRemain strong in this planet full of player haters\\nThey conversate, but Death Row full of demonstrators\\nAnd in the end, drinkin' Hennessy\\nMade all my enemies envy me\\nSo cold when I flow, eliminatin' easily\\nFalls to they knees, they plead for they right to breathe\\nWhile beggin' me to keep the peace (haha)\\nWhen I conceive closer to achieve\\nIn times of danger, don't freeze, time to be a G\\nFollow my lead, I'll supply everything you need\\nAn ounce of game and the training to make a G\\nRemember me as an outcast Outlaw\\nAnother album out, that's what I'm about: more\\nGettin' raw 'til the day I see my casket\\nBuried as a G while the whole world remembers me\\nUntil the end of time\\n\\n[Hook: R.L. Huggar]\\nSo take these broken wings\\nI need your hands to come and heal me once again\\n(Until the end of time)\\nSo I can fly away, until the end of time\\nUntil the end of time, until the end of time\\n\\n\",\n",
       " '\\n\\n[Verse 1]\\nYou are appreciated\\nWhen I was young, me and my mama had beef\\nSeventeen years old, kicked out on the streets\\nThough back at the time I never thought I\\'d see her face\\nAin\\'t a woman alive that could take my mama\\'s place\\nSuspended from school, and scared to go home, I was a fool\\nWith the big boys breakin\\' all the rules\\nI shed tears with my baby sister, over the years\\nWe was poorer than the other little kids\\nAnd even though we had different daddies, the same drama\\nWhen things went wrong we\\'d blame Mama\\nI reminisce on the stress I caused, it was hell\\nHuggin\\' on my mama from a jail cell\\nAnd who\\'d think in elementary, hey\\nI\\'d see the penitentiary one day?\\nAnd runnin\\' from the police, that\\'s right\\nMama catch me, put a whoopin\\' to my backside\\nAnd even as a crack fiend, Mama\\nYou always was a black queen, Mama\\nI finally understand\\nFor a woman it ain\\'t easy tryin\\' to raise a man\\nYou always was committed\\nA poor single mother on welfare, tell me how you did it\\nThere\\'s no way I can pay you back, but the plan\\nIs to show you that I understand: you are appreciated\\n\\n[Chorus: Reggie Green & \"Sweet Franklin\" +  2Pac]\\nLady, don\\'t you know we love ya? (Dear Mama)\\nSweet lady, place no one above ya (You are appreciated)\\nSweet lady, don\\'t you know we love ya?\\n\\n[Verse 2]\\nNow, ain\\'t nobody tell us it was fair\\nNo love from my daddy, ‘cause the coward wasn\\'t there\\nHe passed away and I didn\\'t cry, ‘cause my anger\\nWouldn\\'t let me feel for a stranger\\nThey say I\\'m wrong and I\\'m heartless, but all along\\nI was lookin\\' for a father, he was gone\\nI hung around with the thugs\\nAnd even though they sold drugs\\nThey showed a young brother love\\nI moved out and started really hangin\\'\\nI needed money of my own, so I started slangin\\'\\nI ain\\'t guilty, ‘cause even though I sell rocks\\nIt feels good puttin\\' money in your mailbox\\nI love payin\\' rent when the rent is due\\nI hope you got the diamond necklace that I sent to you\\n‘Cause when I was low you was there for me\\nAnd never left me alone, because you cared for me\\nAnd I could see you comin\\' home after work late\\nYou\\'re in the kitchen, tryin\\' to fix us a hot plate\\nYou just workin\\' with the scraps you was given\\nAnd Mama made miracles every Thanksgivin\\'\\nBut now the road got rough, you\\'re alone\\nYou\\'re tryin\\' to raise two bad kids on your own\\nAnd there\\'s no way I can pay you back, but my plan\\nIs to show you that I understand: you are appreciated\\n\\n[Hook: Reggie Green & \"Sweet Franklin\" +  2Pac]\\nLady, don\\'t you know we love ya? (Dear Mama)\\nSweet lady, place no one above ya (You are appreciated)\\nSweet lady, don\\'t you know we love ya?\\n\\n[Verse 3]\\nPour out some liquor and I reminisce\\n‘Cause through the drama I can always depend on my mama\\nAnd when it seems that I\\'m hopeless\\nYou say the words that can get me back in focus\\nWhen I was sick as a little kid\\nTo keep me happy there\\'s no limit to the things you did\\nAnd all my childhood memories\\nAre full of all the sweet things you did for me\\nAnd even though I act crazy\\nI gotta thank the Lord that you made me\\nThere are no words that can express how I feel\\nYou never kept a secret, always stayed real\\nAnd I appreciate how you raised me\\nAnd all the extra love that you gave me\\nI wish I could take the pain away\\nIf you can make it through the night, there\\'s a brighter day\\nEverything will be alright if you hold on\\nIt\\'s a struggle every day, gotta roll on\\nAnd there\\'s no way I can pay you back, but my plan\\nIs to show you that I understand: you are appreciated\\n\\n[Chorus: Reggie Green & Sweet Franklin +  2Pac]\\nLady, don\\'t you know we love ya? (Dear Mama)\\nSweet lady, place no one above ya (You are appreciated)\\nSweet lady, don\\'t you know we love ya? (Dear Mama)\\nSweet lady, lady (Dear Mama)\\nLady, lady\\n\\n']"
      ]
     },
     "execution_count": 15,
     "metadata": {},
     "output_type": "execute_result"
    }
   ],
   "source": [
    "#data['tupac']"
   ]
  },
  {
   "cell_type": "code",
   "execution_count": 37,
   "metadata": {},
   "outputs": [],
   "source": [
    "#merged_data['tupac']"
   ]
  },
  {
   "cell_type": "markdown",
   "metadata": {},
   "source": [
    "That's better. Our data in the moment is in the dictionary format. We will put it in pandas dataframe, or we will re-structure it. \n",
    "\n",
    "We kinda already have our data in the Corpus format, now we will create Pandas dataframe from it. Why? Because it will be easier to clean our data if it is structured in a dataframe."
   ]
  },
  {
   "cell_type": "code",
   "execution_count": 9,
   "metadata": {},
   "outputs": [],
   "source": [
    "pandas.set_option('max_colwidth',150)\n",
    "\n",
    "lyrics_dataframe = pandas.DataFrame.from_dict(merged_data).transpose()\n",
    "lyrics_dataframe.columns = ['lyrics']\n",
    "lyrics_dataframe = lyrics_dataframe.sort_index()"
   ]
  },
  {
   "cell_type": "markdown",
   "metadata": {},
   "source": [
    "We will check to see if our dataframe is what we expect it to be."
   ]
  },
  {
   "cell_type": "code",
   "execution_count": 40,
   "metadata": {},
   "outputs": [],
   "source": [
    "#lyrics_dataframe"
   ]
  },
  {
   "cell_type": "markdown",
   "metadata": {},
   "source": [
    "Now we could take a look at Tupac's (or any other rapper's) data."
   ]
  },
  {
   "cell_type": "code",
   "execution_count": 10,
   "metadata": {},
   "outputs": [
    {
     "data": {
      "text/plain": [
       "'\\n\\n[Intro]\\n\"Look, I was gonna go easy on you not to hurt your feelings.\"\\n\"But I\\'m only going to get this one chance.\"\\n\"Something\\'s wrong, I can feel it.\"\\nSix minutes. Six minutes. Six minutes, Slim Shady, you\\'re on!\\n\"Just a feeling I\\'ve got. Like something\\'s about to happen, but I don\\'t know what. If that means what I think it means, we\\'re in trouble, big trouble; and if he is as bananas as you say, I\\'m not taking any chances.\"\\n\"You are just what the doc ordered.\"\\n\\n[Chorus]\\nI\\'m beginnin\\' to feel like a Rap God, Rap God\\nAll my people from the front to the back nod, back nod\\nNow, who thinks their arms are long enough to slap box, slap box?\\nThey said I rap like a robot, so call me Rap-bot\\n\\n[Verse 1]\\nBut for me to rap like a computer it must be in my genes\\nI got a laptop in my back pocket\\nMy pen\\'ll go off when I half-cock it\\nGot a fat knot from that rap profit\\nMade a livin\\' and a killin\\' off it\\nEver since Bill Clinton was still in office\\nWith Monica Lewinsky feelin\\' on his nutsack\\nI\\'m an MC still as honest\\nBut as rude and as indecent as all hell\\nSyllables, skill-a-holic (Kill \\'em all with)\\nThis flippity dippity-hippity hip-hop\\nYou don\\'t really wanna get into a pissin\\' match\\nWith this rappity brat, packin\\' a MAC in the back of the Ac\\'\\nBackpack rap crap, yap-yap, yackety-yack\\nAnd at the exact same time, I attempt these lyrical acrobat stunts while I\\'m practicin\\' that\\nI\\'ll still be able to break a motherfuckin\\' table\\nOver the back of a couple of faggots and crack it in half\\nOnly realized it was ironic, I was signed to Aftermath after the fact\\nHow could I not blow? All I do is drop F-bombs\\nFeel my wrath of attack\\nRappers are havin\\' a rough time period, here\\'s a maxi pad\\nIt\\'s actually disastrously bad for the wack\\nWhile I\\'m masterfully constructing this masterpiece as\\n\\n[Chorus]\\n\\'Cause I\\'m beginnin\\' to feel like a Rap God, Rap God\\nAll my people from the front to the back nod, back nod\\nNow, who thinks their arms are long enough to slap box, slap box?\\nLet me show you maintainin\\' this shit ain\\'t that hard, that hard\\n\\n[Verse 2]\\nEverybody wants the key and the secret to rap immortality like Ι have got. Well, to be truthful the blueprint\\'s\\nSimply rage and youthful exuberance\\nEverybody loves to root for a nuisance\\nHit the Earth like an asteroid\\nDid nothing but shoot for the Moon since (Pew!)\\nMCs get taken to school with this music\\n\\'Cause I use it as a vehicle to \"bus the rhyme\"\\nNow I lead a new school full of students\\nMe? I\\'m a product of Rakim\\nLakim Shabazz, 2Pac, N.W.A, Cube, hey Doc, Ren\\nYella, Eazy, thank you, they got Slim\\nInspired enough to one day grow up, blow up and be in a position\\nTo meet Run–D.M.C., induct them\\nInto the motherfuckin\\' Rock and Roll Hall of Fame\\nEven though I\\'ll walk in the church and burst in a ball of flames\\nOnly Hall of Fame I\\'ll be inducted in is the alcohol of fame\\nOn the wall of shame\\nYou fags think it\\'s all a game, \\'til I walk a flock of flames\\nOff a plank and, tell me what in the fuck are you thinkin\\'?\\nLittle gay-lookin\\' boy\\nSo gay I can barely say it with a straight face, lookin\\' boy\\nYou\\'re witnessin\\' a massacre\\nLike you\\'re watching a church gathering take place, lookin\\' boy\\n\"Oy vey, that boy\\'s gay!\"—that\\'s all they say, lookin\\' boy\\nYou get a thumbs up, pat on the back\\nAnd a \"way to go\" from your label every day, lookin\\' boy\\nHey, lookin\\' boy! What you say, lookin\\' boy?\\nI get a \"hell yeah\" from Dre, lookin\\' boy\\nI\\'ma work for everything I have, never ask nobody for shit\\nGet outta my face, lookin\\' boy!\\nBasically, boy, you\\'re never gonna be capable\\nOf keepin\\' up with the same pace, lookin\\' boy, \\'cause—\\n\\n[Chorus]\\nI\\'m beginnin\\' to feel like a Rap God, Rap God\\nAll my people from the front to the back nod, back nod\\nThe way I\\'m racin\\' around the track, call me NASCAR, NASCAR\\nDale Earnhardt of the trailer park, the White Trash God\\nKneel before General Zod\\nThis planet\\'s Krypton—no, Asgard, Asgard\\n\\n[Verse 3]\\nSo you\\'ll be Thor and I\\'ll be Odin\\nYou rodent, I\\'m omnipotent\\nLet off, then I\\'m reloadin\\'\\nImmediately with these bombs, I\\'m totin\\'\\nAnd I should not be woken\\nI\\'m the walkin\\' dead, but I\\'m just a talkin\\' head, a zombie floatin\\'\\nBut I got your mom deep-throatin\\'\\nI\\'m out my Ramen Noodle\\nWe have nothin\\' in common, poodle\\nI\\'m a Doberman, pinch yourself in the arm and pay homage, pupil\\nIt\\'s me, my honesty\\'s brutal\\nBut it\\'s honestly futile if I don\\'t utilize what I do though\\nFor good at least once in a while\\nSo I wanna make sure somewhere in this chicken scratch I scribble and doodle enough rhymes\\nTo maybe try to help get some people through tough times\\nBut I gotta keep a few punchlines\\nJust in case, \\'cause even you unsigned\\nRappers are hungry lookin\\' at me like it\\'s lunchtime\\nI know there was a time where once I\\nWas king of the underground\\nBut I still rap like I\\'m on my Pharoahe Monch grind\\nSo I crunch rhymes, but sometimes when you combine\\nAppeal with the skin color of mine\\nYou get too big and here they come tryin\\'\\nTo censor you like that one line\\nI said on \"I\\'m Back\" from The Mathers LP 1 when I\\nTried to say I\\'ll take seven kids from Columbine\\nPut \\'em all in a line, add an AK-47, a revolver and a 9\\nSee if I get away with it now that I ain\\'t as big as I was, but I\\'m\\nMorphin\\' into an immortal, comin\\' through the portal\\nYou\\'re stuck in a time warp from 2004 though\\nAnd I don\\'t know what the fuck that you rhyme for\\nYou\\'re pointless as Rapunzel with fuckin\\' cornrows\\nYou write normal? Fuck being normal!\\nAnd I just bought a new raygun from the future\\nJust to come and shoot ya, like when Fabolous made Ray J mad\\n\\'Cause Fab said he looked like a fag at Mayweather\\'s pad\\nSingin\\' to a man while he played piano\\nMan, oh man, that was a 24/7 special on the cable channel\\nSo Ray J went straight to the radio station\\nThe very next day, \"Hey Fab, I\\'ma kill you!\"\\nLyrics comin\\' at you at supersonic speed (J.J. Fad)\\nUh, summa-lumma, dooma-lumma, you assumin\\' I\\'m a human\\nWhat I gotta do to get it through to you I\\'m superhuman?\\nInnovative and I\\'m made of rubber so that anything you say is ricochetin\\' off of me and it\\'ll glue to you and\\nI\\'m devastating, more than ever demonstrating\\nHow to give a motherfuckin\\' audience a feeling like it\\'s levitating\\nNever fading, and I know the haters are forever waiting\\nFor the day that they can say I fell off, they\\'ll be celebrating\\n\\'Cause I know the way to get \\'em motivated\\nI make elevating music, you make elevator music\\n\"Oh, he\\'s too mainstream.\"\\nWell, that\\'s what they do when they get jealous, they confuse it\\n\"It\\'s not hip-hop, it\\'s pop,\"—\\'cause I found a hella way to fuse it\\nWith rock, shock rap with Doc\\nThrow on \"Lose Yourself\" and make \\'em lose it\\n\"I don\\'t know how to make songs like that\\nI don\\'t know what words to use.\"\\nLet me know when it occurs to you\\nWhile I\\'m rippin\\' any one of these verses that versus you\\nIt\\'s curtains, I\\'m inadvertently hurtin\\' you\\nHow many verses I gotta murder to\\nProve that if you were half as nice\\nYour songs you could sacrifice virgins too?\\nUgh, school flunky, pill junkie\\nBut look at the accolades these skills brung me\\nFull of myself, but still hungry\\nI bully myself \\'cause I make me do what I put my mind to\\nAnd I\\'m a million leagues above you\\nIll when I speak in tongues, but it\\'s still tongue-in-cheek, fuck you!\\nI\\'m drunk, so, Satan, take the fucking wheel\\nI\\'ma sleep in the front seat\\nBumpin\\' Heavy D and the Boyz, still \"Chunky but Funky\"\\nBut in my head there\\'s something I can feel tugging and struggling\\nAngels fight with devils, and here\\'s what they want from me\\nThey\\'re askin\\' me to eliminate some of the women hate\\nBut if you take into consideration the bitter hatred\\nI have, then you may be a little patient\\nAnd more sympathetic to the situation\\nAnd understand the discrimination\\nBut fuck it, life\\'s handin\\' you lemons? Make lemonade then!\\nBut if I can\\'t batter the women\\nHow the fuck am I supposed to bake them a cake then?\\nDon\\'t mistake him for Satan; it\\'s a fatal mistake\\nIf you think I need to be overseas and take a vacation\\nTo trip a broad, and make her fall on her face and\\nDon\\'t be a retard! Be a king? Think not\\nWhy be a king when you can be a God?\\n\\n \\n\\n[Hook]\\nI am phenomenal\\nWith every ounce of my blood\\nWith every breath in my lungs\\nWon\\'t stop until I\\'m phe-no-menal\\nI am phenomenal\\nHowever long that it takes\\nI\\'ll go to whatever lengths\\nIt\\'s gonna make me a monster though\\nI am phenomenal\\nBut I\\'ll never say, ‘Oh, it’s impossible’\\nCause I\\'m born to be phenomenal\\n\\n[Verse 1]\\nUnstoppable, unpoppable thought bubbles\\nUntoppable thoughts, fuckin\\' juggernaut that\\'ll\\nStomp you in a verse, obstacles I\\'m drawn to \\'em\\nWhen the going got rough\\nSome of what I done fought through was the worst, little sissy\\nWho the fuck taught you how to persevere?\\nThere ain\\'t no situation that you ever had to respond to that\\'s adverse\\nThe messiest thing you\\'ve ever gone through was your purse\\nYeah, I don\\'t try like hell, then I might as well\\nHang it up like a shelf, gotta keep growin\\' with it, evolve\\nCause you can keep throwin\\' shit at the wall\\nBut you\\'re gonna find that nothing\\'s gonna stick until you apply yourself\\nTime to slip in that zone \\'til I find myself\\nInside the realm of the unknown and boldly go\\nInto waters where nobody else has gone before\\nOr willing to go, uncharted, feeling is so\\nBomb, I\\'m feelin\\' myself, I\\'m a giant\\nSometimes I gotta remind myself that I am...\\n\\n[Hook]\\nI am phenomenal\\nWith every ounce of my blood\\nWith every breath in my lungs\\nWon\\'t stop until I\\'m phe-no-menal\\nI am phenomenal\\nHowever long that it takes\\nI\\'ll go to whatever lengths\\nIt\\'s gonna make me a monster though\\nI am phenomenal\\nBut I\\'ll never say, ‘Oh, it’s impossible’\\nCause I\\'m born to be phenomenal\\n\\n[Verse 2]\\nLet me self-empower you\\nWhen you\\'re down and they\\'re tryin\\' to clown the fuck out of you\\nAnd you feel like you\\'re runnin\\' out of fuel\\nI\\'ll show you how to use doubt as fuel\\nConvert it to gunpowder too\\nNow what you do is put the match to the charcoal fluid\\nPut the spark to it like Martha Stewart barbecuing\\nAh screw it, feel like you want to hit that wall then do it\\nPunch through it, just cock back, put your all into it\\nNow you gon\\' take that rage and make that what you wage\\nNever take back what you say\\nIf you stay strapped in your brain, engaged in a steel cage match\\nReady to scrap asap\\nTake your fists and just ball it\\nShow who\\'s big and who\\'s smallest you\\'re Christopher Wallace\\nNow picture \\'em all as plastic and foam\\nLays flat, where you put your dinner plates at\\nAnd set it on \\'em like a placemat\\n(I am phenomenal)\\nAnd I want you to say that\\n\\n[Hook]\\nI am phenomenal\\nWith every ounce of my blood\\nWith every breath in my lungs\\nWon\\'t stop until I\\'m phe-no-menal\\nI am phenomenal\\nHowever long that it takes\\nI\\'ll go to whatever lengths\\nIt\\'s gonna make me a monster though\\nI am phenomenal\\nBut I\\'ll never say, ‘Oh, it’s impossible’\\nCause I\\'m born to be phenomenal\\n\\n[Bridge]\\nOh, step into the unknown and find yourself\\nYou’re floating freely, no emotion\\n\\n[Verse 3]\\nGot a fuckin’ mouth with no shut-off valve\\nCan\\'t even cut off power to it, but it\\'s what allowed\\nMe to come up out from under the fuckin\\' ground\\nCause I worked my butt off now\\nIt\\'s a subject that I don\\'t know how to shut up about\\nCause I stuck it out\\nLike a motherfuckin\\' tongue thats how\\nI responded when I got shoved around\\nYou\\'re gonna have non-believers\\nBut when you\\'re beyond belief, you probably shouldn\\'t wonder how\\nGet it how you live\\nBut are you prepared to give more than you get?\\nAnd put in twice what you get back from this shit\\nThough what you sacrifice barely is half, never give\\nRap is my shiv\\nBut it\\'s like my shield at the same time I wield and my knife is will\\nSometimes I feel just like B. Real from Cypress Hill\\nHow I can just kill a cypher, survivor\\'s guilt\\nI rhyme like life is still an uphill climb\\nReady to face any challenge, waitin\\'\\nCan taste it, it\\'s salivation, I\\'m wagin\\' retaliation\\nLook what I have built, reputation is validation\\nThe only thing I\\'m capable of makin\\' is amazing\\nOnly thing you\\'re capable of makin\\' is a false statement\\nOr accusation... I am legendary status, in fact\\nThat is the only way you\\'ll ever be able to say\\nYou\\'re a legend is makin\\' an allegation\\nI write with the left, same hand I hold the mic with\\nAs I fight to the death, \\'til my last breath\\nManage to prove who the best man is\\nPrevail at all costs, be the only ones left standin\\'\\nIn the end, but I ain\\'t gonna be the only one with the advantage\\nOf knowin\\' what it\\'s like to be southpaw\\nCause you can bet your ass you\\'ll be left handed\\nCause I am\\n\\n[Hook]\\nI am phenomenal\\nWith every ounce of my blood\\nWith every breath in my lungs\\nWon\\'t stop until I\\'m phe-no-menal\\nI am phenomenal\\nHowever long that it takes\\nI\\'ll go to whatever lengths\\nIt\\'s gonna make me a monster though\\nI am phenomenal\\nBut I\\'ll never say, ‘Oh, it’s impossible’\\nCause I\\'m born to be phenomenal\\n\\n \\n\\n[Hook: X Ambassadors]\\nI\\'m getting by with my wicked ways\\nI\\'m loading up and I\\'m taking names\\nI wanna dig my way to hell\\nI wanna dig my way to hell\\nI\\'m getting by with my wicked ways\\nI\\'m loading up and I\\'m taking names\\nI wanna dig my way to hell\\nI wanna dig my way to hell\\n\\n[Verse 1: Eminem]\\nGuess I got a way with words, I could get away with murder\\nEver heard of Aspergers\\'? It\\'s a rare condition\\nIt\\'s what you\\'re sufferin\\' from when you simply don\\'t care if it\\'s an\\n80 degree day and there\\'s no frickin\\' air conditionin\\'\\nAnd you can\\'t see the bitch’s hair is frizzin\\'\\n\\'Cause you got the windows up, blarin\\' the system\\nIn your Chevrolet Prizm\\nThe devil ain\\'t on a level same as him\\nPicture someone who revels in straight masochism\\nAnd imagine him givin\\' an adjective an ass-whoopin\\'\\nSo bad they should put his ass in prison\\nA word bully, I verbally abuse verbs\\nLike they did somethin\\' to me personally\\nUsed to get bullied, so I\\'d cut class and ditch it\\nNow I bully rap, I\\'m the shit, faggot (Sniff it!)\\nCadillac from a K Car\\nMy ass from a hole in the ground, still can’t tell \\'em a-part\\nCame straight out the trailer park\\nScreamin\\', \"I\\'m proud to shop at K-Mart,\" and it became art\\nAnd I\\'m still fed up and as pissed off as they are\\nTo this day I still get in fights with the same broad\\nAt the same Walmart, arguin\\' over the same cart\\nIn the middle of the aisle whilin\\', I don\\'t give a fuck, I don\\'t play\\nBitch, you think you saw this basket first?\\nYou\\'re ass backwards like motherfuckin\\' Bob and Silent Jay\\nIllest shit you could think I would say\\nMind\\'s like a pile of clay\\nWhen\\'s the last time that you saw a villain with a cape\\nRipped a gapin\\' hole in it, flipped out\\nRipped down the drapes, tied \\'em around my neck\\nWent down the fire escape of the Empire State\\nSlipped, fell straight down to the ground\\nSplattered all over the entire state\\nAnd straight to hell, got impaled by the gates\\nSaw Satan, stuck his face in an ashtray\\nWhile I sashayed around flames with a match\\nAnd I gave him the gas face\\nAnd this ain\\'t got nothin\\' to do with a scale\\nOr being gay, little faggot, but by the way\\nThoughts are gettin\\' darker by the day\\nI\\'m a combination of Skylar Grey\\nTyler the Creator, and Violent J\\nIt\\'s a fuckin\\' miracle to be this lyrical\\nPaint my face with clown makeup and a smiley face\\nI\\'m insane, every rhyme I say\\nSons you like an ultra-violet ray\\nI’m sellin\\' hatred, buffet style, all the shit you can eat\\n$11.99, so come on and pile a plate!\\nI’m throwin\\' down the gauntlet to see what hell I can raise\\nWith the rhyme I’m spittin\\' while I’m shittin\\' on competition\\nIn the meantime it’s always mean time, I\\'m gettin\\'—\\n\\n[Hook: X Ambassadors]\\nI\\'m getting by with my wicked ways\\nI\\'m loading up and I\\'m taking names\\nI wanna dig my way to hell\\nI wanna dig my way to hell\\nI\\'m getting by with my wicked ways\\nI\\'m loading up and I\\'m taking names\\nI wanna dig my way to hell\\nI wanna dig my way to hell\\n\\n[Verse 2: Eminem]\\nI’ve been a career asshole\\nI don’t see why these people always got my back\\nI done said so much fucked up shit\\nI was born a mistake, but I was put here not by accident\\nI had a purpose and that purpose\\nWas to beat a beat purplish, slaughter tracks\\nI done put my two dimes and a nickel in this shit\\nI’m comin\\' to get that quarter back\\nLike Ndamukong, the drama can build\\nYour mama can ask me for my autograph\\n\\'Cause that cougar\\'s a MILF\\nShe\\'s the oldest trick in the book, but I sure would fall for that\\nYou done brought a bat to a rocket launcher fight\\nWhen I get on the mic I\\'ma snap\\nMake you wish the ambulance that took me to the hospital\\nWhen I overdosed woulda caught a flat\\nIf it makes you sick to your stomach acid\\nIndigestion, my suggestion’s Kaopectate\\nIf it feels like I\\'m runnin\\' away with the game\\nIt\\'s \\'cause I am, don\\'t speculate, spectate\\nAll I got is dick for days and insults for decades\\nBut I get by with my wicked ways\\nLady, you can suck a dick \\'til your neck aches\\nCry \\'til you get puffy eyes, red faced\\nBut I\\'m leavin\\' on this jet plane\\nYou ain\\'t fly, you\\'re an airhead\\nAnd I\\'m sick of poundin\\' a square peg in a round hole\\nSorry, another catchphrase\\nBut your baggage ain\\'t gon\\' fit in my storage overhead space\\n\\'Cause it just ain\\'t big enough to fit your damaged goods\\nOther words: don\\'t try to put your heart in a headcase\\n\\'Cause baby, stable mentally I ain\\'t\\nI need my meds, I peed my bed\\nI\\'m going blind, I don\\'t see my legs, I keep on falling down\\nNo wonder you can\\'t stand me, I need my cane\\nSomeone help me, I think my face is melting\\nIf you felt these migraines\\nAnd see these maggots eat my brain\\nThis G-I-A-N-T hole in my empty head\\nIf you read my mind, you can see my pain\\nAnd you\\'d see why I be this way\\nEver since I was knee-high playin\\' with G.I. Joes\\nTold these hoes shut their P-I-E holes, now peep my game\\n\\'Cause I\\'m \\'bout it \\'bout it\\nLike a fuckin\\' (fuckin\\') echo (echo)\\n(Psych) Psycho on a cyclone cycle, spiralin\\', here I go\\nI\\'m outta control like no other mic go\\nStab you \\'til the knife goes – dull\\nI\\'m nothin\\' but a hole inside your skull where your eye goes\\n\\'Cause I\\'ma sock it to you!\\nDyke ho, you don\\'t like it?\\nGet on your Harley Davidson menstrual cycle\\nAnd ride it like a motorbike\\nI\\'m finna blow the mic the whole night, so\\nStrike up the fuckin\\' maestro, I\\'m nitro\\nAnd hi, ho, hand me my shovel!\\nI\\'m liable to dig my hole deeper\\nAnd it\\'s off to H-E double hockey sticks, I go\\n\\n[Hook: X Ambassadors]\\nI\\'m getting by with my wicked ways\\nI\\'m loading up and I\\'m taking names\\nI wanna dig my way to hell\\nI wanna dig my way to hell\\nI\\'m getting by with my wicked ways\\nI\\'m loading up and I\\'m taking names\\nI wanna dig my way to hell\\nI wanna dig my way to hell\\n\\n[Outro/Skit: Eminem & Ken Kaniff]\\nOhh, please be empty\\nPlease be empty, please be empty\\nThank you, God!\\nShit… Is that a girl?\\nI\\'m gonna rock this blouse and put a cock in my mouth\\nAnd get my balls blew out, and get gay into the A.M.\\nAnd lay with eighteen guys naked\\nAnd let myself show, let myself show\\nButtfuck it, suck it, pull it, tug it\\nLife\\'s too short to not stroke your bone\\nSo everybody, everybody\\nCircle jerk, touch my body\\nWho is that? Where are you going? Come back!\\nWhy does everyone always leave me?\\nHello? Fuck you then!\\nBlow it out your ass!\\n\\n \\n\\n[Produced by The New Royales]\\n\\n[Chorus: Gwen Stefani]\\nHere to stay\\nEven when I\\'m gone\\nWhen I close my eyes\\nThrough the passage of time\\nKings never die\\n\\n[Verse 1: Eminem]\\nI can hear the drummer drummin\\'\\nAnd the trumpets, someone\\'s tryna summon someone\\nI know something\\'s comin\\'\\nBut I\\'m runnin\\' from it, to be standing at the summit\\nAnd plummet, how come it wasn\\'t what I thought it was?\\nWas it too good to be true?\\nHave nothin\\', get it all but too much of it\\nThen lose it again, did I swallow hallucinogens?\\n‘Cause if not, where the hell did it go?\\n‘Cause here I sit in Lucifer’s den by the dutch oven\\nJust choosing to sin, even if it means I\\'m sellin\\' my soul\\nJust to be the undisputed again\\nDo whatever I gotta do just to win\\n‘Cause I got this motherfuckin\\' cloud over my head\\nCrown around it, thorns on it\\nCracks in it, bet you morons didn\\'t think I\\'d be back, did ya?\\nHow \\'bout that? I’m somehow now back to the underdog\\nBut no matter how loud that I bark\\nThis sport is somethin\\' I never bow-out at\\nI complain about the game, I shout and I pout, it\\'s a love-hate\\nBut I found out that I can move a mountain of doubt\\nEven when you bitches are countin\\' me out\\nAnd I appear to be down for the count\\nOnly time I ever been out and about\\nIs drivin\\' around town with my fuckin\\' whereabouts in a doubt\\n‘Cause I been lost tryna think of what I did to get here\\nBut I\\'m not a quitter; gotta get up, give it all I got or give up\\nSpit on, shit on, stepped on, but kept goin\\'\\nI\\'m tryna be headstrong\\nBut it feels like I slept on my neck wrong\\n‘Cause you\\'re moving onto the next, but is your respect gone?\\n‘Cause someone told me that…\\n\\n[Chorus: Gwen Stefani]\\nKings never die\\n\\n[Verse 2: Eminem]\\nDon\\'t give me that sob story, liar, don\\'t preach to the choir\\nYou ain\\'t never even had to reach in the fire to dig deep\\nNobody ever handed me shit in life, not even a flyer\\nWouldn\\'t even take shit into consideration\\nObliterate anyone in the way\\nI think I see why a lot of rappers get on these features\\nAnd try to show out on a track with me\\nBut it\\'d actually have to be\\nA fuckin\\' blow-out to get me to retire\\nTell these new artists that kings never die\\nI know shit has changed in this age, fuck a Twitter page\\nDid it just say I\\'ve been upstaged?\\nWhy am I online? It\\'s driving me crazy\\nI\\'m ridin\\' shotgun tryna get a gauge\\nOn what\\'s hot, but I\\'m not one to conform\\nBut as days pass in this shit\\nAnd opinions sway, I can hear \\'em say\\nIf I stay passionate maybe I can stage a miraculous\\nComeback, as if I went away\\nBut detractors just say so much for the renegade\\nSomeone\\'s gonna make me blow my composure\\nHere I go again, center stage, and I feel like I\\'m in a cage\\nThey so want a champion to fall\\nIt\\'s no wonder why I laugh at \\'em\\n‘Cause why can\\'t we win \\'em all?\\nSo fuck what these cynics say!\\nIt just goes to show that when my back\\'s against the wall\\nAnd I\\'m under attack again, that I\\'ll act as if I\\'m \\'posed ta\\nWith this pent-up rage, ‘cause all these plaques in my office\\nOn the floor stacked against the door\\nAre they just metaphors for the odds of me comin\\' back again?\\n‘Cause all the accomplishments, accolades, awards\\nAnd trophies, they just don\\'t mean jack anymore\\nIf I\\'m here today and gone tomorrow, and I\\'m not gonna be…\\n\\n[Chorus: Gwen Stefani]\\nHere to stay\\nEven when I\\'m gone\\nWhen I close my eyes\\nThrough the passage of time\\nKings never die\\n\\n[Verse 3: Eminem]\\nI want it, I\\'m comin\\' to get it\\nSo you son of a bitches don\\'t duck\\nYou’re gonna get Riddick Bowe’d\\nCritics\\'ll end up in critical\\nThink your shit is dope, all you\\'re gonna get is smoked\\nAnd I ain\\'t stopping \\'til I\\'m on top again\\nAll alone and on a throne, like a token of respect\\nOr a homage poem, or an ode I\\'ve been owed\\nTossed in the air by my own arm\\nAnd launched so hard it broke my collarbone\\nAnd when it\\'s my time to go\\nI\\'m still not leaving, stop for no one, I don\\'t know\\nBut I\\'ve been told, an obstacle that blocks your road, ya\\nKnock it over, time to go for the pot of gold, ‘cause…\\n\\n[Bridge: Eminem]\\nThey say kings never die\\nJust ask Jam Master Jay\\nThey just grow wings and they fly\\nSo, hands up, reach for the sky!\\nTry to hold on and prolong these moments\\n‘Cause in a blink of an eye\\nThey\\'ll be over\\n\\n[Verse 4: Eminem]\\nSo you\\'re tryna secure your legacy like Shakur\\nAnd ensure nobody\\'s ever gonna be what you were\\nSo before you\\'re leavin\\' this Earth\\nYou want people to feel the fury of a pure evil cerebral, berserk\\nDeacon of words, syllable genius at work\\nPlus, I\\'m thinkin\\' that they\\'re mistakin\\' my kindness for weakness; kill \\'em with meanness\\nI went from powdered milk and Farina\\nTo flippin\\' burgers on the grill for some peanuts\\nAt Gilbert\\'s to arenas, call me Gilbert Arenas\\nStill appeal to the dreamers\\nI made it to the silverscreen\\nBut Rocky\\'s still what the theme is\\nKhalil on the beat, ‘cause makin\\' the beat\\nAin’t the same feelin\\' to me as killin\\' the beat is\\nOr fulfillin\\' to me is what fillin\\' a seat is\\nIt\\'s that sound-bombing, thirstin\\' howl\\nCommon, underground, Diamond D, Outsidaz\\nStomach growl, throbbin\\' hunger, out-rhymin\\' everyone\\nGod, just give me one shot, I swear that I won\\'t let you down\\nI\\'ma be around forever-and-a-day, even in the ground\\nYou ain\\'t never ever gonna hear \\'em say I ain\\'t…\\n\\n[Chorus: Gwen Stefani]\\nHere to stay\\nEven when I\\'m gone\\nWhen I close my eyes\\nThrough the passage of time\\nKings never die\\n\\n[Outro: Gwen Stefani]\\nKings never die\\n\\n \\n\\n[Intro]\\n*Plane crash*\\nYeah (Illa)\\nYo, I\\'m just gonna write down my first thoughts, and see where this takes me, ’cause I feel like I wanna punch the world in the fuckin\\' face right now\\nYeah\\n\\n[Verse]\\nLet me explain just how to make greatness\\nStraight out the gate, I\\'m ’bout to break it down\\nAin\\'t no mistakes allowed, but make no mistake, I\\'m \\'bout\\nTo rape the alphabet, I may raise some brows\\nIf I press the issue just to get the anger out (Brrr!)\\nFull magazine could take Staples out\\nSavage but ain\\'t thinkin\\' \\'bout no bank account\\nBut bitch, I\\'m off the chain like Kala Brown\\nMotherfucker, shut the fuck up when I’m talkin’, lil\\' bitch\\nI’m sorry, wait, what\\'s your talent? Oh, critiquin\\'\\nMy talent? Oh, bitch, I don\\'t know who the fuck y’all are\\nTo give a sub-par bar or even have an opinion or view\\nYou mention me, millions of views, attention in news\\nI mention you, lose-lose for me, win-win for you\\nBillions of views, your ten cents are two\\nSkim through the music to give shit reviews\\nTo get clicks, but bitch, you just lit the fuse\\nDon\\'t get misconstrued, business as us\\'\\nShit-list renewed, so get shit to do\\nOr get dissed \\'cause I just don\\'t get\\nWhat the fuck half the shit is that you\\'re listenin\\' to\\nDo you have any idea how much I hate this choppy flow\\nEveryone copies though? Prob\\'ly no\\nGet this fuckin\\' audio out my Audi, yo, adiós\\nI can see why people like Lil Yachty, but not me though\\nNot even dissin\\', it just ain\\'t for me\\nAll I am simply is just an emcee\\nMaybe \"Stan\" just isn\\'t your cup of tea (Get it?)\\nMaybe your cup\\'s full of syrup and lean\\nMaybe I need to stir up shit, preferably\\nShake the world up if it were up to me\\nPaul wants me to chill, y\\'all want me to ill\\nI should eat a pill, probably I will\\nOld me killed the new me, watch him bleed to death\\nI breathe on the mirror, I don\\'t see my breath\\nPossibly I\\'m dead, I must be possessed\\nLike an evil spell, I\\'m E-V-I-L (Evil, spelled)\\nJam a Crest Whitestrip in the tip of my dick\\nWith an ice pick, stick it in a vise grip\\nHang it on a spike fence, bang it with a pipe wrench\\nWhile I take my ball sack and flick it like a light switch\\nLike Vice President Mike Pence\\nBack up on my shit in a sidekick as I lay it on a spike strip\\nThese are things that I\\'d rather do than hear you on a mic\\nSince nine tenths of your rhyme is about ice and\\nJesus Christ, man, how many times is\\nSomeone gonna fuck on my bitch? (Fuck my side chick!)\\nYou won\\'t ever see Em icy\\nBut as cold as I get on the M-I-C\\nI polarize shit, so the Thames might freeze\\nAnd your skull might split like I bashed you upside it\\nBitch, I got the club on smash like a nightstick (Yeah)\\nTurn down for what?\\nI ain\\'t loud enough, nah, turn the Valium up!\\n\\'Cause I don\\'t know how I\\'m gonna get your mouths to shut\\nNow when it doesn\\'t matter what caliber\\nI spit at, I\\'ll bet a hundred thousand bucks\\nYou\\'ll turn around and just be like, \"Man, how the fuck\\nSourpuss gonna get mad just \\'cause his album sucks?\\nAnd now he wants to take it out on us.\" (Ooouuu)\\nBut last week, an ex-fan mailed me a copy\\nOf The Mathers LP to tell me to study\\nIt\\'ll help me get back to myself and she\\'ll love me (Oooouuu)\\nI mailed the bitch back and said if I did that\\nI\\'d just be like everyone else in the fuckin\\' industry\\nEspecially an effing Recovery clone of me (NFing)\\nSo finger-bang, chicken wang, MGK, Igg\\' Azae\\'\\nLil Pump, Lil Xan imitate Lil Wayne\\nI should aim at everybody in the game, pick a name\\nI\\'m fed up with bein\\' humble\\nAnd rumor is I\\'m hungry, I\\'m sure you heard rumblings\\nI heard you wanna rumble like an empty stomach\\nI heard your mumblin\\' but it\\'s jumbled in mumbo-jumbo\\nThe era that I\\'m from will pummel you, that\\'s what it\\'s comin\\' to\\nWhat the fuck you\\'re gonna do when you run into it?\\nI\\'m gonna crumble you and I\\'ll take a number two\\nAnd dump on you, if you ain\\'t Joyner\\nIf you ain\\'t Kendrick or Cole or Sean, then you\\'re a goner\\nI\\'m \\'bout to bring it to anyone in this bitch who want it\\nI guess when you walk into BK you expect a Whopper\\nYou can order a Quarter Pounder when you go to McDonald\\'s\\nBut if you\\'re lookin\\' to get a porterhouse you better go get Revival\\nBut y\\'all are actin\\' like I tried to serve you up a slider\\nMaybe the vocals shoulda been auto-tuned\\nAnd you woulda bought it\\nBut sayin\\' I no longer got it\\n\\'Cause you missed a line and never caught it\\n\\'Cause it went over your head, because you\\'re too stupid to get it\\n\\'Cause you\\'re mentally retarded, but pretend to be the smartest\\nWith your expertise and knowledge, but you\\'ll never be an artist\\nAnd I\\'m harder on myself than you could ever be regardless\\nWhat I\\'ll never be is flawless, all I\\'ll ever be is honest\\nEven when I\\'m gone they\\'re gonna say I brought it\\nEven when I hit my forties like a fuckin\\' alcoholic\\nWith a bottle full of malt liquor\\nBut I couldn\\'t bottle this shit any longer\\nThe fact that I know that I\\'ma hit my bottom\\nIf I don\\'t pull myself from the jaws of defeat and rise to my feet\\nI don\\'t see why y\\'all even started with me\\nI get in beefs, my enemies die\\nI don\\'t cease fire \\'til at least all are deceased\\nI\\'m east side, never be caught slippin\\'\\nNow you see why I don\\'t sleep, not even a wink, I don\\'t blink\\nI don\\'t doze off, I don\\'t even nod to the beats\\nI don\\'t even close my fuckin\\' eyes when I sneeze\\n\"Aw, man! That BET cypher was weak, it was garbage\\nThe Thing ain\\'t even orange—oh my God, that\\'s a reach!\"\\nShout to all my colorblind people\\nEach and everyone of y\\'all, if you call a fire engine green\\nAquamarine, or you think water is pink\\n\"Dawg, that\\'s a date.\"  \"Looks like an olive to me.\"\\n\"Look, there\\'s an apple!\" No, it\\'s not, it\\'s a peach!\\nSo finger-bang, Pootie Tang\\nBurger King, Gucci Gang, dookie, dang\\nCharlamagne gonna hate anyway, doesn\\'t matter what I say\\nGive me Donkey of the Day\\nWhat a way for 2018 to get underway\\nBut I\\'m gonna say everything that I wanna say\\nWelcome to the slaughterhouse, bitch! (Yeah)\\nInvite \\'em in like a One A Day\\nI\\'m not done (Preach!)\\n\\'Cause I feel like the beast of burden\\nThat line in the sand, was it even worth it?\\n\\'Cause the way I see people turning\\'s\\nMakin\\' it seem worthless, it\\'s startin\\' to defeat the purpose\\nI\\'m watchin\\' my fan base shrink to thirds\\nAnd I was just tryin\\' to do the right thing, but word\\nHas the court of public opinion reached a verdict\\nOr still yet to be determined?\\n\\'Cause I\\'m determined to be me, critiqued or worshipped\\nBut if I could go back, I\\'d at least reword it\\nAnd say I empathize with the people this evil serpent\\nSold the dream to that he\\'s deserted\\nBut I think it\\'s workin\\'\\nThese verses are makin\\' him a wee bit nervous\\nAnd he\\'s too scurred to answer me with words\\n\\'Cause he knows that he will lyrically get murdered\\nBut I know at least he\\'s heard it\\n\\'Cause Agent Orange just sent the Secret Service\\nTo meet in person to see if I really think of hurtin\\' him\\nOr ask if I\\'m linked to terrorists\\nI said, \"Only when it comes to ink and lyricists.\"\\nBut my beef is more media journalists\\n(Hold up, hold up, hold up…)\\nI said my beef is more meaty, a journalist\\nCan get a mouthful of flesh\\nAnd yes, I mean eatin\\' a penis\\n\\'Cause they been pannin\\' my album to death\\nSo I been givin\\' the media fingers\\nDon\\'t wanna turn this to a counseling sesh\\nBut they been puttin\\' me through the ringer\\nSo I ain\\'t ironin\\' shit out with the press\\nBut I just took this beat to the cleaners\\n\\n'"
      ]
     },
     "execution_count": 10,
     "metadata": {},
     "output_type": "execute_result"
    }
   ],
   "source": [
    "lyrics_dataframe.lyrics.loc['eminem']"
   ]
  },
  {
   "cell_type": "markdown",
   "metadata": {},
   "source": [
    "Now that we have our data restructured we move on to the second data cleaning technique that we will apply: remove garbage characters."
   ]
  },
  {
   "cell_type": "code",
   "execution_count": 11,
   "metadata": {},
   "outputs": [],
   "source": [
    "def remove_garbage_characters(lyrics):\n",
    "    # remove data in brackets\n",
    "    lyrics = re.sub('\\[.*?\\]', '', lyrics)\n",
    "    # remove multiple \"\\n\" characters with ''\n",
    "    lyrics = re.sub('\\n{2,}', '', lyrics)\n",
    "    # remove single \"\\n\" character with ' '\n",
    "    lyrics = re.sub('\\n', ' ', lyrics)\n",
    "    return lyrics\n",
    "\n",
    "garbage_characters_removal_technique = lambda x: remove_garbage_characters(x)\n",
    "\n",
    "clean_data = pandas.DataFrame(lyrics_dataframe.lyrics.apply(garbage_characters_removal_technique))"
   ]
  },
  {
   "cell_type": "markdown",
   "metadata": {},
   "source": [
    "We could check to see if there are any changes in the data."
   ]
  },
  {
   "cell_type": "code",
   "execution_count": 12,
   "metadata": {},
   "outputs": [
    {
     "data": {
      "text/plain": [
       "'\"Look, I was gonna go easy on you not to hurt your feelings.\" \"But I\\'m only going to get this one chance.\" \"Something\\'s wrong, I can feel it.\" Six minutes. Six minutes. Six minutes, Slim Shady, you\\'re on! \"Just a feeling I\\'ve got. Like something\\'s about to happen, but I don\\'t know what. If that means what I think it means, we\\'re in trouble, big trouble; and if he is as bananas as you say, I\\'m not taking any chances.\" \"You are just what the doc ordered.\"I\\'m beginnin\\' to feel like a Rap God, Rap God All my people from the front to the back nod, back nod Now, who thinks their arms are long enough to slap box, slap box? They said I rap like a robot, so call me Rap-botBut for me to rap like a computer it must be in my genes I got a laptop in my back pocket My pen\\'ll go off when I half-cock it Got a fat knot from that rap profit Made a livin\\' and a killin\\' off it Ever since Bill Clinton was still in office With Monica Lewinsky feelin\\' on his nutsack I\\'m an MC still as honest But as rude and as indecent as all hell Syllables, skill-a-holic (Kill \\'em all with) This flippity dippity-hippity hip-hop You don\\'t really wanna get into a pissin\\' match With this rappity brat, packin\\' a MAC in the back of the Ac\\' Backpack rap crap, yap-yap, yackety-yack And at the exact same time, I attempt these lyrical acrobat stunts while I\\'m practicin\\' that I\\'ll still be able to break a motherfuckin\\' table Over the back of a couple of faggots and crack it in half Only realized it was ironic, I was signed to Aftermath after the fact How could I not blow? All I do is drop F-bombs Feel my wrath of attack Rappers are havin\\' a rough time period, here\\'s a maxi pad It\\'s actually disastrously bad for the wack While I\\'m masterfully constructing this masterpiece as\\'Cause I\\'m beginnin\\' to feel like a Rap God, Rap God All my people from the front to the back nod, back nod Now, who thinks their arms are long enough to slap box, slap box? Let me show you maintainin\\' this shit ain\\'t that hard, that hardEverybody wants the key and the secret to rap immortality like Ι have got. Well, to be truthful the blueprint\\'s Simply rage and youthful exuberance Everybody loves to root for a nuisance Hit the Earth like an asteroid Did nothing but shoot for the Moon since (Pew!) MCs get taken to school with this music \\'Cause I use it as a vehicle to \"bus the rhyme\" Now I lead a new school full of students Me? I\\'m a product of Rakim Lakim Shabazz, 2Pac, N.W.A, Cube, hey Doc, Ren Yella, Eazy, thank you, they got Slim Inspired enough to one day grow up, blow up and be in a position To meet Run–D.M.C., induct them Into the motherfuckin\\' Rock and Roll Hall of Fame Even though I\\'ll walk in the church and burst in a ball of flames Only Hall of Fame I\\'ll be inducted in is the alcohol of fame On the wall of shame You fags think it\\'s all a game, \\'til I walk a flock of flames Off a plank and, tell me what in the fuck are you thinkin\\'? Little gay-lookin\\' boy So gay I can barely say it with a straight face, lookin\\' boy You\\'re witnessin\\' a massacre Like you\\'re watching a church gathering take place, lookin\\' boy \"Oy vey, that boy\\'s gay!\"—that\\'s all they say, lookin\\' boy You get a thumbs up, pat on the back And a \"way to go\" from your label every day, lookin\\' boy Hey, lookin\\' boy! What you say, lookin\\' boy? I get a \"hell yeah\" from Dre, lookin\\' boy I\\'ma work for everything I have, never ask nobody for shit Get outta my face, lookin\\' boy! Basically, boy, you\\'re never gonna be capable Of keepin\\' up with the same pace, lookin\\' boy, \\'cause—I\\'m beginnin\\' to feel like a Rap God, Rap God All my people from the front to the back nod, back nod The way I\\'m racin\\' around the track, call me NASCAR, NASCAR Dale Earnhardt of the trailer park, the White Trash God Kneel before General Zod This planet\\'s Krypton—no, Asgard, AsgardSo you\\'ll be Thor and I\\'ll be Odin You rodent, I\\'m omnipotent Let off, then I\\'m reloadin\\' Immediately with these bombs, I\\'m totin\\' And I should not be woken I\\'m the walkin\\' dead, but I\\'m just a talkin\\' head, a zombie floatin\\' But I got your mom deep-throatin\\' I\\'m out my Ramen Noodle We have nothin\\' in common, poodle I\\'m a Doberman, pinch yourself in the arm and pay homage, pupil It\\'s me, my honesty\\'s brutal But it\\'s honestly futile if I don\\'t utilize what I do though For good at least once in a while So I wanna make sure somewhere in this chicken scratch I scribble and doodle enough rhymes To maybe try to help get some people through tough times But I gotta keep a few punchlines Just in case, \\'cause even you unsigned Rappers are hungry lookin\\' at me like it\\'s lunchtime I know there was a time where once I Was king of the underground But I still rap like I\\'m on my Pharoahe Monch grind So I crunch rhymes, but sometimes when you combine Appeal with the skin color of mine You get too big and here they come tryin\\' To censor you like that one line I said on \"I\\'m Back\" from The Mathers LP 1 when I Tried to say I\\'ll take seven kids from Columbine Put \\'em all in a line, add an AK-47, a revolver and a 9 See if I get away with it now that I ain\\'t as big as I was, but I\\'m Morphin\\' into an immortal, comin\\' through the portal You\\'re stuck in a time warp from 2004 though And I don\\'t know what the fuck that you rhyme for You\\'re pointless as Rapunzel with fuckin\\' cornrows You write normal? Fuck being normal! And I just bought a new raygun from the future Just to come and shoot ya, like when Fabolous made Ray J mad \\'Cause Fab said he looked like a fag at Mayweather\\'s pad Singin\\' to a man while he played piano Man, oh man, that was a 24/7 special on the cable channel So Ray J went straight to the radio station The very next day, \"Hey Fab, I\\'ma kill you!\" Lyrics comin\\' at you at supersonic speed (J.J. Fad) Uh, summa-lumma, dooma-lumma, you assumin\\' I\\'m a human What I gotta do to get it through to you I\\'m superhuman? Innovative and I\\'m made of rubber so that anything you say is ricochetin\\' off of me and it\\'ll glue to you and I\\'m devastating, more than ever demonstrating How to give a motherfuckin\\' audience a feeling like it\\'s levitating Never fading, and I know the haters are forever waiting For the day that they can say I fell off, they\\'ll be celebrating \\'Cause I know the way to get \\'em motivated I make elevating music, you make elevator music \"Oh, he\\'s too mainstream.\" Well, that\\'s what they do when they get jealous, they confuse it \"It\\'s not hip-hop, it\\'s pop,\"—\\'cause I found a hella way to fuse it With rock, shock rap with Doc Throw on \"Lose Yourself\" and make \\'em lose it \"I don\\'t know how to make songs like that I don\\'t know what words to use.\" Let me know when it occurs to you While I\\'m rippin\\' any one of these verses that versus you It\\'s curtains, I\\'m inadvertently hurtin\\' you How many verses I gotta murder to Prove that if you were half as nice Your songs you could sacrifice virgins too? Ugh, school flunky, pill junkie But look at the accolades these skills brung me Full of myself, but still hungry I bully myself \\'cause I make me do what I put my mind to And I\\'m a million leagues above you Ill when I speak in tongues, but it\\'s still tongue-in-cheek, fuck you! I\\'m drunk, so, Satan, take the fucking wheel I\\'ma sleep in the front seat Bumpin\\' Heavy D and the Boyz, still \"Chunky but Funky\" But in my head there\\'s something I can feel tugging and struggling Angels fight with devils, and here\\'s what they want from me They\\'re askin\\' me to eliminate some of the women hate But if you take into consideration the bitter hatred I have, then you may be a little patient And more sympathetic to the situation And understand the discrimination But fuck it, life\\'s handin\\' you lemons? Make lemonade then! But if I can\\'t batter the women How the fuck am I supposed to bake them a cake then? Don\\'t mistake him for Satan; it\\'s a fatal mistake If you think I need to be overseas and take a vacation To trip a broad, and make her fall on her face and Don\\'t be a retard! Be a king? Think not Why be a king when you can be a God? I am phenomenal With every ounce of my blood With every breath in my lungs Won\\'t stop until I\\'m phe-no-menal I am phenomenal However long that it takes I\\'ll go to whatever lengths It\\'s gonna make me a monster though I am phenomenal But I\\'ll never say, ‘Oh, it’s impossible’ Cause I\\'m born to be phenomenalUnstoppable, unpoppable thought bubbles Untoppable thoughts, fuckin\\' juggernaut that\\'ll Stomp you in a verse, obstacles I\\'m drawn to \\'em When the going got rough Some of what I done fought through was the worst, little sissy Who the fuck taught you how to persevere? There ain\\'t no situation that you ever had to respond to that\\'s adverse The messiest thing you\\'ve ever gone through was your purse Yeah, I don\\'t try like hell, then I might as well Hang it up like a shelf, gotta keep growin\\' with it, evolve Cause you can keep throwin\\' shit at the wall But you\\'re gonna find that nothing\\'s gonna stick until you apply yourself Time to slip in that zone \\'til I find myself Inside the realm of the unknown and boldly go Into waters where nobody else has gone before Or willing to go, uncharted, feeling is so Bomb, I\\'m feelin\\' myself, I\\'m a giant Sometimes I gotta remind myself that I am...I am phenomenal With every ounce of my blood With every breath in my lungs Won\\'t stop until I\\'m phe-no-menal I am phenomenal However long that it takes I\\'ll go to whatever lengths It\\'s gonna make me a monster though I am phenomenal But I\\'ll never say, ‘Oh, it’s impossible’ Cause I\\'m born to be phenomenalLet me self-empower you When you\\'re down and they\\'re tryin\\' to clown the fuck out of you And you feel like you\\'re runnin\\' out of fuel I\\'ll show you how to use doubt as fuel Convert it to gunpowder too Now what you do is put the match to the charcoal fluid Put the spark to it like Martha Stewart barbecuing Ah screw it, feel like you want to hit that wall then do it Punch through it, just cock back, put your all into it Now you gon\\' take that rage and make that what you wage Never take back what you say If you stay strapped in your brain, engaged in a steel cage match Ready to scrap asap Take your fists and just ball it Show who\\'s big and who\\'s smallest you\\'re Christopher Wallace Now picture \\'em all as plastic and foam Lays flat, where you put your dinner plates at And set it on \\'em like a placemat (I am phenomenal) And I want you to say thatI am phenomenal With every ounce of my blood With every breath in my lungs Won\\'t stop until I\\'m phe-no-menal I am phenomenal However long that it takes I\\'ll go to whatever lengths It\\'s gonna make me a monster though I am phenomenal But I\\'ll never say, ‘Oh, it’s impossible’ Cause I\\'m born to be phenomenalOh, step into the unknown and find yourself You’re floating freely, no emotionGot a fuckin’ mouth with no shut-off valve Can\\'t even cut off power to it, but it\\'s what allowed Me to come up out from under the fuckin\\' ground Cause I worked my butt off now It\\'s a subject that I don\\'t know how to shut up about Cause I stuck it out Like a motherfuckin\\' tongue thats how I responded when I got shoved around You\\'re gonna have non-believers But when you\\'re beyond belief, you probably shouldn\\'t wonder how Get it how you live But are you prepared to give more than you get? And put in twice what you get back from this shit Though what you sacrifice barely is half, never give Rap is my shiv But it\\'s like my shield at the same time I wield and my knife is will Sometimes I feel just like B. Real from Cypress Hill How I can just kill a cypher, survivor\\'s guilt I rhyme like life is still an uphill climb Ready to face any challenge, waitin\\' Can taste it, it\\'s salivation, I\\'m wagin\\' retaliation Look what I have built, reputation is validation The only thing I\\'m capable of makin\\' is amazing Only thing you\\'re capable of makin\\' is a false statement Or accusation... I am legendary status, in fact That is the only way you\\'ll ever be able to say You\\'re a legend is makin\\' an allegation I write with the left, same hand I hold the mic with As I fight to the death, \\'til my last breath Manage to prove who the best man is Prevail at all costs, be the only ones left standin\\' In the end, but I ain\\'t gonna be the only one with the advantage Of knowin\\' what it\\'s like to be southpaw Cause you can bet your ass you\\'ll be left handed Cause I amI am phenomenal With every ounce of my blood With every breath in my lungs Won\\'t stop until I\\'m phe-no-menal I am phenomenal However long that it takes I\\'ll go to whatever lengths It\\'s gonna make me a monster though I am phenomenal But I\\'ll never say, ‘Oh, it’s impossible’ Cause I\\'m born to be phenomenal I\\'m getting by with my wicked ways I\\'m loading up and I\\'m taking names I wanna dig my way to hell I wanna dig my way to hell I\\'m getting by with my wicked ways I\\'m loading up and I\\'m taking names I wanna dig my way to hell I wanna dig my way to hellGuess I got a way with words, I could get away with murder Ever heard of Aspergers\\'? It\\'s a rare condition It\\'s what you\\'re sufferin\\' from when you simply don\\'t care if it\\'s an 80 degree day and there\\'s no frickin\\' air conditionin\\' And you can\\'t see the bitch’s hair is frizzin\\' \\'Cause you got the windows up, blarin\\' the system In your Chevrolet Prizm The devil ain\\'t on a level same as him Picture someone who revels in straight masochism And imagine him givin\\' an adjective an ass-whoopin\\' So bad they should put his ass in prison A word bully, I verbally abuse verbs Like they did somethin\\' to me personally Used to get bullied, so I\\'d cut class and ditch it Now I bully rap, I\\'m the shit, faggot (Sniff it!) Cadillac from a K Car My ass from a hole in the ground, still can’t tell \\'em a-part Came straight out the trailer park Screamin\\', \"I\\'m proud to shop at K-Mart,\" and it became art And I\\'m still fed up and as pissed off as they are To this day I still get in fights with the same broad At the same Walmart, arguin\\' over the same cart In the middle of the aisle whilin\\', I don\\'t give a fuck, I don\\'t play Bitch, you think you saw this basket first? You\\'re ass backwards like motherfuckin\\' Bob and Silent Jay Illest shit you could think I would say Mind\\'s like a pile of clay When\\'s the last time that you saw a villain with a cape Ripped a gapin\\' hole in it, flipped out Ripped down the drapes, tied \\'em around my neck Went down the fire escape of the Empire State Slipped, fell straight down to the ground Splattered all over the entire state And straight to hell, got impaled by the gates Saw Satan, stuck his face in an ashtray While I sashayed around flames with a match And I gave him the gas face And this ain\\'t got nothin\\' to do with a scale Or being gay, little faggot, but by the way Thoughts are gettin\\' darker by the day I\\'m a combination of Skylar Grey Tyler the Creator, and Violent J It\\'s a fuckin\\' miracle to be this lyrical Paint my face with clown makeup and a smiley face I\\'m insane, every rhyme I say Sons you like an ultra-violet ray I’m sellin\\' hatred, buffet style, all the shit you can eat $11.99, so come on and pile a plate! I’m throwin\\' down the gauntlet to see what hell I can raise With the rhyme I’m spittin\\' while I’m shittin\\' on competition In the meantime it’s always mean time, I\\'m gettin\\'—I\\'m getting by with my wicked ways I\\'m loading up and I\\'m taking names I wanna dig my way to hell I wanna dig my way to hell I\\'m getting by with my wicked ways I\\'m loading up and I\\'m taking names I wanna dig my way to hell I wanna dig my way to hellI’ve been a career asshole I don’t see why these people always got my back I done said so much fucked up shit I was born a mistake, but I was put here not by accident I had a purpose and that purpose Was to beat a beat purplish, slaughter tracks I done put my two dimes and a nickel in this shit I’m comin\\' to get that quarter back Like Ndamukong, the drama can build Your mama can ask me for my autograph \\'Cause that cougar\\'s a MILF She\\'s the oldest trick in the book, but I sure would fall for that You done brought a bat to a rocket launcher fight When I get on the mic I\\'ma snap Make you wish the ambulance that took me to the hospital When I overdosed woulda caught a flat If it makes you sick to your stomach acid Indigestion, my suggestion’s Kaopectate If it feels like I\\'m runnin\\' away with the game It\\'s \\'cause I am, don\\'t speculate, spectate All I got is dick for days and insults for decades But I get by with my wicked ways Lady, you can suck a dick \\'til your neck aches Cry \\'til you get puffy eyes, red faced But I\\'m leavin\\' on this jet plane You ain\\'t fly, you\\'re an airhead And I\\'m sick of poundin\\' a square peg in a round hole Sorry, another catchphrase But your baggage ain\\'t gon\\' fit in my storage overhead space \\'Cause it just ain\\'t big enough to fit your damaged goods Other words: don\\'t try to put your heart in a headcase \\'Cause baby, stable mentally I ain\\'t I need my meds, I peed my bed I\\'m going blind, I don\\'t see my legs, I keep on falling down No wonder you can\\'t stand me, I need my cane Someone help me, I think my face is melting If you felt these migraines And see these maggots eat my brain This G-I-A-N-T hole in my empty head If you read my mind, you can see my pain And you\\'d see why I be this way Ever since I was knee-high playin\\' with G.I. Joes Told these hoes shut their P-I-E holes, now peep my game \\'Cause I\\'m \\'bout it \\'bout it Like a fuckin\\' (fuckin\\') echo (echo) (Psych) Psycho on a cyclone cycle, spiralin\\', here I go I\\'m outta control like no other mic go Stab you \\'til the knife goes – dull I\\'m nothin\\' but a hole inside your skull where your eye goes \\'Cause I\\'ma sock it to you! Dyke ho, you don\\'t like it? Get on your Harley Davidson menstrual cycle And ride it like a motorbike I\\'m finna blow the mic the whole night, so Strike up the fuckin\\' maestro, I\\'m nitro And hi, ho, hand me my shovel! I\\'m liable to dig my hole deeper And it\\'s off to H-E double hockey sticks, I goI\\'m getting by with my wicked ways I\\'m loading up and I\\'m taking names I wanna dig my way to hell I wanna dig my way to hell I\\'m getting by with my wicked ways I\\'m loading up and I\\'m taking names I wanna dig my way to hell I wanna dig my way to hellOhh, please be empty Please be empty, please be empty Thank you, God! Shit… Is that a girl? I\\'m gonna rock this blouse and put a cock in my mouth And get my balls blew out, and get gay into the A.M. And lay with eighteen guys naked And let myself show, let myself show Buttfuck it, suck it, pull it, tug it Life\\'s too short to not stroke your bone So everybody, everybody Circle jerk, touch my body Who is that? Where are you going? Come back! Why does everyone always leave me? Hello? Fuck you then! Blow it out your ass! Here to stay Even when I\\'m gone When I close my eyes Through the passage of time Kings never dieI can hear the drummer drummin\\' And the trumpets, someone\\'s tryna summon someone I know something\\'s comin\\' But I\\'m runnin\\' from it, to be standing at the summit And plummet, how come it wasn\\'t what I thought it was? Was it too good to be true? Have nothin\\', get it all but too much of it Then lose it again, did I swallow hallucinogens? ‘Cause if not, where the hell did it go? ‘Cause here I sit in Lucifer’s den by the dutch oven Just choosing to sin, even if it means I\\'m sellin\\' my soul Just to be the undisputed again Do whatever I gotta do just to win ‘Cause I got this motherfuckin\\' cloud over my head Crown around it, thorns on it Cracks in it, bet you morons didn\\'t think I\\'d be back, did ya? How \\'bout that? I’m somehow now back to the underdog But no matter how loud that I bark This sport is somethin\\' I never bow-out at I complain about the game, I shout and I pout, it\\'s a love-hate But I found out that I can move a mountain of doubt Even when you bitches are countin\\' me out And I appear to be down for the count Only time I ever been out and about Is drivin\\' around town with my fuckin\\' whereabouts in a doubt ‘Cause I been lost tryna think of what I did to get here But I\\'m not a quitter; gotta get up, give it all I got or give up Spit on, shit on, stepped on, but kept goin\\' I\\'m tryna be headstrong But it feels like I slept on my neck wrong ‘Cause you\\'re moving onto the next, but is your respect gone? ‘Cause someone told me that…Kings never dieDon\\'t give me that sob story, liar, don\\'t preach to the choir You ain\\'t never even had to reach in the fire to dig deep Nobody ever handed me shit in life, not even a flyer Wouldn\\'t even take shit into consideration Obliterate anyone in the way I think I see why a lot of rappers get on these features And try to show out on a track with me But it\\'d actually have to be A fuckin\\' blow-out to get me to retire Tell these new artists that kings never die I know shit has changed in this age, fuck a Twitter page Did it just say I\\'ve been upstaged? Why am I online? It\\'s driving me crazy I\\'m ridin\\' shotgun tryna get a gauge On what\\'s hot, but I\\'m not one to conform But as days pass in this shit And opinions sway, I can hear \\'em say If I stay passionate maybe I can stage a miraculous Comeback, as if I went away But detractors just say so much for the renegade Someone\\'s gonna make me blow my composure Here I go again, center stage, and I feel like I\\'m in a cage They so want a champion to fall It\\'s no wonder why I laugh at \\'em ‘Cause why can\\'t we win \\'em all? So fuck what these cynics say! It just goes to show that when my back\\'s against the wall And I\\'m under attack again, that I\\'ll act as if I\\'m \\'posed ta With this pent-up rage, ‘cause all these plaques in my office On the floor stacked against the door Are they just metaphors for the odds of me comin\\' back again? ‘Cause all the accomplishments, accolades, awards And trophies, they just don\\'t mean jack anymore If I\\'m here today and gone tomorrow, and I\\'m not gonna be…Here to stay Even when I\\'m gone When I close my eyes Through the passage of time Kings never dieI want it, I\\'m comin\\' to get it So you son of a bitches don\\'t duck You’re gonna get Riddick Bowe’d Critics\\'ll end up in critical Think your shit is dope, all you\\'re gonna get is smoked And I ain\\'t stopping \\'til I\\'m on top again All alone and on a throne, like a token of respect Or a homage poem, or an ode I\\'ve been owed Tossed in the air by my own arm And launched so hard it broke my collarbone And when it\\'s my time to go I\\'m still not leaving, stop for no one, I don\\'t know But I\\'ve been told, an obstacle that blocks your road, ya Knock it over, time to go for the pot of gold, ‘cause…They say kings never die Just ask Jam Master Jay They just grow wings and they fly So, hands up, reach for the sky! Try to hold on and prolong these moments ‘Cause in a blink of an eye They\\'ll be overSo you\\'re tryna secure your legacy like Shakur And ensure nobody\\'s ever gonna be what you were So before you\\'re leavin\\' this Earth You want people to feel the fury of a pure evil cerebral, berserk Deacon of words, syllable genius at work Plus, I\\'m thinkin\\' that they\\'re mistakin\\' my kindness for weakness; kill \\'em with meanness I went from powdered milk and Farina To flippin\\' burgers on the grill for some peanuts At Gilbert\\'s to arenas, call me Gilbert Arenas Still appeal to the dreamers I made it to the silverscreen But Rocky\\'s still what the theme is Khalil on the beat, ‘cause makin\\' the beat Ain’t the same feelin\\' to me as killin\\' the beat is Or fulfillin\\' to me is what fillin\\' a seat is It\\'s that sound-bombing, thirstin\\' howl Common, underground, Diamond D, Outsidaz Stomach growl, throbbin\\' hunger, out-rhymin\\' everyone God, just give me one shot, I swear that I won\\'t let you down I\\'ma be around forever-and-a-day, even in the ground You ain\\'t never ever gonna hear \\'em say I ain\\'t…Here to stay Even when I\\'m gone When I close my eyes Through the passage of time Kings never dieKings never die *Plane crash* Yeah (Illa) Yo, I\\'m just gonna write down my first thoughts, and see where this takes me, ’cause I feel like I wanna punch the world in the fuckin\\' face right now YeahLet me explain just how to make greatness Straight out the gate, I\\'m ’bout to break it down Ain\\'t no mistakes allowed, but make no mistake, I\\'m \\'bout To rape the alphabet, I may raise some brows If I press the issue just to get the anger out (Brrr!) Full magazine could take Staples out Savage but ain\\'t thinkin\\' \\'bout no bank account But bitch, I\\'m off the chain like Kala Brown Motherfucker, shut the fuck up when I’m talkin’, lil\\' bitch I’m sorry, wait, what\\'s your talent? Oh, critiquin\\' My talent? Oh, bitch, I don\\'t know who the fuck y’all are To give a sub-par bar or even have an opinion or view You mention me, millions of views, attention in news I mention you, lose-lose for me, win-win for you Billions of views, your ten cents are two Skim through the music to give shit reviews To get clicks, but bitch, you just lit the fuse Don\\'t get misconstrued, business as us\\' Shit-list renewed, so get shit to do Or get dissed \\'cause I just don\\'t get What the fuck half the shit is that you\\'re listenin\\' to Do you have any idea how much I hate this choppy flow Everyone copies though? Prob\\'ly no Get this fuckin\\' audio out my Audi, yo, adiós I can see why people like Lil Yachty, but not me though Not even dissin\\', it just ain\\'t for me All I am simply is just an emcee Maybe \"Stan\" just isn\\'t your cup of tea (Get it?) Maybe your cup\\'s full of syrup and lean Maybe I need to stir up shit, preferably Shake the world up if it were up to me Paul wants me to chill, y\\'all want me to ill I should eat a pill, probably I will Old me killed the new me, watch him bleed to death I breathe on the mirror, I don\\'t see my breath Possibly I\\'m dead, I must be possessed Like an evil spell, I\\'m E-V-I-L (Evil, spelled) Jam a Crest Whitestrip in the tip of my dick With an ice pick, stick it in a vise grip Hang it on a spike fence, bang it with a pipe wrench While I take my ball sack and flick it like a light switch Like Vice President Mike Pence Back up on my shit in a sidekick as I lay it on a spike strip These are things that I\\'d rather do than hear you on a mic Since nine tenths of your rhyme is about ice and Jesus Christ, man, how many times is Someone gonna fuck on my bitch? (Fuck my side chick!) You won\\'t ever see Em icy But as cold as I get on the M-I-C I polarize shit, so the Thames might freeze And your skull might split like I bashed you upside it Bitch, I got the club on smash like a nightstick (Yeah) Turn down for what? I ain\\'t loud enough, nah, turn the Valium up! \\'Cause I don\\'t know how I\\'m gonna get your mouths to shut Now when it doesn\\'t matter what caliber I spit at, I\\'ll bet a hundred thousand bucks You\\'ll turn around and just be like, \"Man, how the fuck Sourpuss gonna get mad just \\'cause his album sucks? And now he wants to take it out on us.\" (Ooouuu) But last week, an ex-fan mailed me a copy Of The Mathers LP to tell me to study It\\'ll help me get back to myself and she\\'ll love me (Oooouuu) I mailed the bitch back and said if I did that I\\'d just be like everyone else in the fuckin\\' industry Especially an effing Recovery clone of me (NFing) So finger-bang, chicken wang, MGK, Igg\\' Azae\\' Lil Pump, Lil Xan imitate Lil Wayne I should aim at everybody in the game, pick a name I\\'m fed up with bein\\' humble And rumor is I\\'m hungry, I\\'m sure you heard rumblings I heard you wanna rumble like an empty stomach I heard your mumblin\\' but it\\'s jumbled in mumbo-jumbo The era that I\\'m from will pummel you, that\\'s what it\\'s comin\\' to What the fuck you\\'re gonna do when you run into it? I\\'m gonna crumble you and I\\'ll take a number two And dump on you, if you ain\\'t Joyner If you ain\\'t Kendrick or Cole or Sean, then you\\'re a goner I\\'m \\'bout to bring it to anyone in this bitch who want it I guess when you walk into BK you expect a Whopper You can order a Quarter Pounder when you go to McDonald\\'s But if you\\'re lookin\\' to get a porterhouse you better go get Revival But y\\'all are actin\\' like I tried to serve you up a slider Maybe the vocals shoulda been auto-tuned And you woulda bought it But sayin\\' I no longer got it \\'Cause you missed a line and never caught it \\'Cause it went over your head, because you\\'re too stupid to get it \\'Cause you\\'re mentally retarded, but pretend to be the smartest With your expertise and knowledge, but you\\'ll never be an artist And I\\'m harder on myself than you could ever be regardless What I\\'ll never be is flawless, all I\\'ll ever be is honest Even when I\\'m gone they\\'re gonna say I brought it Even when I hit my forties like a fuckin\\' alcoholic With a bottle full of malt liquor But I couldn\\'t bottle this shit any longer The fact that I know that I\\'ma hit my bottom If I don\\'t pull myself from the jaws of defeat and rise to my feet I don\\'t see why y\\'all even started with me I get in beefs, my enemies die I don\\'t cease fire \\'til at least all are deceased I\\'m east side, never be caught slippin\\' Now you see why I don\\'t sleep, not even a wink, I don\\'t blink I don\\'t doze off, I don\\'t even nod to the beats I don\\'t even close my fuckin\\' eyes when I sneeze \"Aw, man! That BET cypher was weak, it was garbage The Thing ain\\'t even orange—oh my God, that\\'s a reach!\" Shout to all my colorblind people Each and everyone of y\\'all, if you call a fire engine green Aquamarine, or you think water is pink \"Dawg, that\\'s a date.\"  \"Looks like an olive to me.\" \"Look, there\\'s an apple!\" No, it\\'s not, it\\'s a peach! So finger-bang, Pootie Tang Burger King, Gucci Gang, dookie, dang Charlamagne gonna hate anyway, doesn\\'t matter what I say Give me Donkey of the Day What a way for 2018 to get underway But I\\'m gonna say everything that I wanna say Welcome to the slaughterhouse, bitch! (Yeah) Invite \\'em in like a One A Day I\\'m not done (Preach!) \\'Cause I feel like the beast of burden That line in the sand, was it even worth it? \\'Cause the way I see people turning\\'s Makin\\' it seem worthless, it\\'s startin\\' to defeat the purpose I\\'m watchin\\' my fan base shrink to thirds And I was just tryin\\' to do the right thing, but word Has the court of public opinion reached a verdict Or still yet to be determined? \\'Cause I\\'m determined to be me, critiqued or worshipped But if I could go back, I\\'d at least reword it And say I empathize with the people this evil serpent Sold the dream to that he\\'s deserted But I think it\\'s workin\\' These verses are makin\\' him a wee bit nervous And he\\'s too scurred to answer me with words \\'Cause he knows that he will lyrically get murdered But I know at least he\\'s heard it \\'Cause Agent Orange just sent the Secret Service To meet in person to see if I really think of hurtin\\' him Or ask if I\\'m linked to terrorists I said, \"Only when it comes to ink and lyricists.\" But my beef is more media journalists (Hold up, hold up, hold up…) I said my beef is more meaty, a journalist Can get a mouthful of flesh And yes, I mean eatin\\' a penis \\'Cause they been pannin\\' my album to death So I been givin\\' the media fingers Don\\'t wanna turn this to a counseling sesh But they been puttin\\' me through the ringer So I ain\\'t ironin\\' shit out with the press But I just took this beat to the cleaners'"
      ]
     },
     "execution_count": 12,
     "metadata": {},
     "output_type": "execute_result"
    }
   ],
   "source": [
    "clean_data.lyrics.loc['eminem']"
   ]
  },
  {
   "cell_type": "markdown",
   "metadata": {},
   "source": [
    "We move on to the third data cleaning step: remove all punctuation."
   ]
  },
  {
   "cell_type": "code",
   "execution_count": 13,
   "metadata": {},
   "outputs": [],
   "source": [
    "def remove_punctuation(lyrics):\n",
    "    lyrics = re.sub('[%s]' % re.escape(string.punctuation), '', lyrics)\n",
    "    lyrics = re.sub('[‘’“”…]', '', lyrics)\n",
    "    return lyrics\n",
    "\n",
    "remove_punctuation_technique = lambda x: remove_punctuation(x)\n",
    "\n",
    "clean_data = pandas.DataFrame(clean_data.lyrics.apply(remove_punctuation_technique))"
   ]
  },
  {
   "cell_type": "markdown",
   "metadata": {},
   "source": [
    "See where we are:"
   ]
  },
  {
   "cell_type": "code",
   "execution_count": 45,
   "metadata": {},
   "outputs": [
    {
     "data": {
      "text/plain": [
       "'How many brothers fell victim to the streets Rest in peace young nigga theres a heaven for a G Be a lie If I told you that I never thought of death My niggas we the last ones left but life goes on How many brothers fell victim to the streets Rest in peace young nigga theres a heaven for a G Be a lie If I told you that I never thought of death My niggas we the last ones left but life goes onAs I bail through the empty halls breath stinkin in my jaws Ring ring ring — quiet yall incomin call Plus this my homie from high school he gettin by Its time to bury another brother nobody cry Life as a baller alcohol and booty calls We used to do em as adolescents do you recall Raised as Gs loced out and blazed the weed Get on the roof lets get smoked out and blaze with me Two in the morning and we still high assed out Screamin Thug til I die before I passed out But now that youre gone Im in the zone Thinkin I dont wanna die all alone but now you gone And all I got left are stinkin memories I love them niggas to death Im drinkin Hennessy While tryin to make it last I drank a fifth for that ass when you passed cause life goes onHow many brothers fell victim to the streets Rest in peace young nigga theres a heaven for a G Be a lie If I told you that I never thought of death My niggas we the last ones left but life goes on How many brothers fell victim to the streets Rest in peace young nigga theres a heaven for a G Be a lie If I told you that I never thought of death My niggas we the last ones left and life goes onYeah nigga I got the word its hell You blew trial and the judge gave you 25 with an L Time to prepare to do fed time wont see parole Imagine life as a convict thats gettin old Plus with the drama were lookin out for your babys mama Takin risks while keepin cheap tricks from gettin on her Life in the hood is all good for nobody Remember gamin on dumb hotties at yo party Me and you no truer two while schemin on hits And gettin tricks that maybe we can slide into But now you buried — rest nigga cause I aint worried Eyes blurry sayin goodbye at the cemetery Though memories fade I got your name tatted on my arm So we both ball til my dyin days Before I say goodbye Kato and Mental rest in peace Thug til I dieHow many brothers fell victim to the streets Rest in peace young nigga theres a heaven for a G Be a lie If I told you that I never thought of death My niggas we the last ones left but life goes on How many brothers fell victim to the streets Rest in peace young nigga theres a heaven for a G Be a lie If I told you that I never thought of death My niggas we the last ones left cause life goes onBury me smilin with Gs in my pocket Have a party at my funeral let every rapper rock it Let the hoes that I used to know From way befo kiss me from my head to my toe Give me a paper and a pen so I can write about my life of sin A couple bottles of gin in case I dont get in Tell all my people Im a Ridah Nobody cries when we die we Outlawz let me ride Until I get free I live my life in the fast lane got police chasin me To my niggas from old blocks from old crews Niggas that guided me through back in the old school Pour out some liquor have a toast for the homies See we both gotta die but you chose to go before me And brothers miss you while you gone You left your nigga on his own how long we mourn Life goes onHow many brothers fell victim to the streets Rest in peace young nigga theres a heaven for a G Be a lie If I told you that I never thought of death My niggas we the last ones left but life goes on How many brothers fell victim to the streets Rest in peace young nigga theres a heaven for a G Be a lie If I told you that I never thought of death My niggas we the last ones left but life goes onLife goes on homie Gone on cause they passed away Niggas doin life Niggas doin 50 and 60 years and shit I feel you nigga trust me I feel you You know what I mean Last year we poured out liquor for ya This year nigga life goes on were gonna clock now Get money evade bitches evade tricks Give playa haters plenty of space And basically just represent for you baby Next time you see your niggas we gon be on top nigga You gon be like Goddamn them niggas came up Thats right baby life goes on And we up out this bitch Hey Kato Mental Yall niggas make sure its poppin When we get up there man dont front Life goes on Hold me no more hold me no more Yes it do yes it do yes it do What yall want Unconditional love no doubt Talkin about the stuff that dont wear off it dont fade Itll last for all these crazy days these crazy nights Whether you wrong or you right A motherfucker still love you still feel you Still there for you no matter what hehe You will always be in my heart with unconditional loveCome listen to my truest thoughts my truest feelings All my peers doin years beyond drug dealing How many caskets can we witness Before we see its hard to live this life without God So we must ask forgiveness Ask Mama why I got this urge to die Witness the tears fallin free from my eyes before she could reply Though we were born without a silver spoon My broken down TV show cartoons in my living room hey One day I hope to make it a player in this game Mama dont cry long as we try maybe things change Perhaps its just a fantasy A life where we dont need no welfare and share with our whole family Maybe its me that caused it the fightin and the hurtin In my room cryin because I didnt wanna be a burden Watch Mama open up her arms to hug me And I aint worried bout a damn thing with unconditional loveIn this game the lessons in your eyes to see Though things change the futures still inside of me We must remember that tomorrow comes after the dark So you will always be in my heart with unconditional love In this game the lessons in your eyes to see Though things change the futures still inside of me We must remember that tomorrow comes after the dark So you will always be in my heart with unconditional loveJust got the message youve been callin all week Been out here hustlin on these streets Aint had a chance to speak But you know with you and me its all G We could never be enemies Cause youve been such a good friend to me Where would I be without my dogs No wonder why when times get hard Cause it aint easy bein who we are Driven by my ambitions desire higher positions So I proceed to make Gs eternally And my mission is to be more than just a rap musician The elevation of todays generation if I could make em listen Prison aint what we need no longer stuck in greed Time to plan strategize my familys gotta eat We work somethin out of nothin No pleasure in the sufferin Neighborhood would be good if they could cut out all the bustin The liquor and the weed the cussin Sendin love out to my block The struggle never stops unconditional loveIn this game the lessons in your eyes to see Though things change the futures still inside of me We must remember that tomorrow comes after the dark So you will always be in my heart with unconditional love In this game the lessons in your eyes to see Though things change the futures still inside of me We must remember that tomorrow comes after the dark So you will always be in my heart with unconditional loveIll probably never understand your ways With everyday I swear I hear you tryin to change your ways While gettin paid at the same time Just had a baby with the same eyes Somethin inside please let me die these are strange times How come I never made it Maybe its the way I played it in my heart I knew one day I gotta be a star My hopes and all my wishes so many vivid pictures And all the currency Ill never even get to see This fast life soon shatters cause after all the lights and screams nothin but my dreams matter Hopin for better days maybe a peaceful night Baby dont cry cause everything gon be alright Just lay your head on my shoulder Dont worry bout a thing baby girl Im a soldier huh Never treated me bad no matter who I was You still came with that unconditional love repeat to fade In this game the lessons in your eyes to see Though things change the futures still inside of me We must remember that tomorrow comes after the dark So you will always be in my heart with unconditional love In this game the lessons in your eyes to see Though things change the futures still inside of me We must remember that tomorrow comes after the dark So you will always be in my heart with unconditional love I see no changes wake up in the morning and I ask myself Is life worth livin Should I blast myself Im tired of bein poor and even worse Im black My stomach hurts so Im lookin for a purse to snatch Cops give a damn about a negro Pull the trigger kill a nigga hes a hero Give the crack to the kids who the hell cares One less hungry mouth on the welfare First ship em dope and let em deal to brothers Give em guns step back watch em kill each other Its time to fight back thats what Huey said Two shots in the dark now Hueys dead I got love for my brother But we can never go nowhere unless we share with each other We gotta start makin changes Learn to see me as a brother instead of two distant strangers And thats how its supposed to be How can the Devil take a brother if hes close to me Id love to go back to when we played as kids But things change and thats the way it isThats just the way it is Thingsll never be the same Thats just the way it is aww yeah Thats just the way it is Thingsll never be the same Thats just the way it is aww yeahI see no changes all I see is racist faces Misplaced hate makes disgrace to races We under I wonder what it takes to make this One better place lets erase the wasted Take the evil out the people theyll be actin right Cause both black and white are smokin crack tonight And the only time we chill is when we kill each other It takes skill to be real time to heal each other And although it seems heavensent We aint ready to see a black president It aint a secret dont conceal the fact The penitentiarys packed and its filled with blacks But some things will never change Try to show another way but you stayin in the dope game Now tell me whats a mother to do Bein real dont appeal to the brother in you You gotta operate the easy way I made a G today but you made it in a sleazy way Sellin crack to the kids I gotta get paid — well hey but thats the way it isThats just the way it is Thingsll never be the same Thats just the way it is aww yeah Thats just the way it is Thingsll never be the same Thats just the way it is aww yeahWe gotta make a change Its time for us as a people to start makin some changes Lets change the way we eat Lets change the way we live And lets change the way we treat each other You see the old way wasnt workin So its on us to do what we gotta do to surviveAnd still I see no changes cant a brother get a little peace Its war on the streets and a war in the Middle East Instead of war on poverty They got a war on drugs so the police can bother me And I aint never did a crime I aint have to do But now Im back with the facts givin it back to you Dont let em jack you up back you up Crack you up and pimpsmack you up You gotta learn to hold your own They get jealous when they see you with your mobile phone But tell the cops they cant touch this I dont trust this when they try to rush I bust this Thats the sound of my tool You say it aint cool my mama didnt raise no fool And as long as I stay black I gotta stay strapped And I never get to lay back Cause I always got to worry bout the payback Some buck that I roughed up way back Comin back after all these years Ratatattattattat thats the way it isThats just the way it is Thingsll never be the same Thats just the way it is aww yeah Youre my brother youre my sister Thats just the way it is Thingsll never be the same Thats just the way it is aww yeahSome thingsll never change Perhaps I was addicted to the dark side Somewhere inside my childhood witnessed my heart die And even though we both came from the same places The money and the fame made us all change places How could it be Through the misery that came to pass The hard times make a true friend afraid to ask For currency but you could run to me when you need And Ill never leave honestly Someone to believe in as you can see Its a small thing to a true what could I do Real homies help you get through And come to knew hed do the same thing if he could Cause in the hood true homies make you feel good And half the times we be actin up call the cops Bringin a cease to the peace that was on my block It never stops when my mama ask me will I change I tell her yeah but its clear Ill always be the same Until the end of timeSo take these broken wings I need your hands to come and heal me once again Until the end of time So I can fly away until the end of time Until the end of time until the end of timePlease Lord forgive me for my life of sin My hard stare seem to scare all my sisters kids So you know I dont hang around the house much This allnight money makin got me outta touch Shit aint flashed a smile in a long while An unexpected birth worst of the ghetto childs My attitude got me walkin solo Ride out alone in my lolo Watchin the whole world move in slowmo For quiet times disappear listen to the ocean Smokin Ports think my thoughts then its back to coastin Who can I trust in this cold world My phony homie had a baby by my old girl But I aint trippin Im a player I aint sweatin him I sexed his sister had her mumble like a Mexican His next of kin no remorse it was meant to happen Besides rappin the only thing I did good was scrappin Until the end of timeSo take these broken wings I need your hands to come and heal me once again Until the end of time So I can fly away until the end of time Until the end of time until the end of timeNow whos to say if I was right or wrong To live my life as an outlaw all along Remain strong in this planet full of player haters They conversate but Death Row full of demonstrators And in the end drinkin Hennessy Made all my enemies envy me So cold when I flow eliminatin easily Falls to they knees they plead for they right to breathe While beggin me to keep the peace haha When I conceive closer to achieve In times of danger dont freeze time to be a G Follow my lead Ill supply everything you need An ounce of game and the training to make a G Remember me as an outcast Outlaw Another album out thats what Im about more Gettin raw til the day I see my casket Buried as a G while the whole world remembers me Until the end of timeSo take these broken wings I need your hands to come and heal me once again Until the end of time So I can fly away until the end of time Until the end of time until the end of time You are appreciated When I was young me and my mama had beef Seventeen years old kicked out on the streets Though back at the time I never thought Id see her face Aint a woman alive that could take my mamas place Suspended from school and scared to go home I was a fool With the big boys breakin all the rules I shed tears with my baby sister over the years We was poorer than the other little kids And even though we had different daddies the same drama When things went wrong wed blame Mama I reminisce on the stress I caused it was hell Huggin on my mama from a jail cell And whod think in elementary hey Id see the penitentiary one day And runnin from the police thats right Mama catch me put a whoopin to my backside And even as a crack fiend Mama You always was a black queen Mama I finally understand For a woman it aint easy tryin to raise a man You always was committed A poor single mother on welfare tell me how you did it Theres no way I can pay you back but the plan Is to show you that I understand you are appreciatedLady dont you know we love ya Dear Mama Sweet lady place no one above ya You are appreciated Sweet lady dont you know we love yaNow aint nobody tell us it was fair No love from my daddy cause the coward wasnt there He passed away and I didnt cry cause my anger Wouldnt let me feel for a stranger They say Im wrong and Im heartless but all along I was lookin for a father he was gone I hung around with the thugs And even though they sold drugs They showed a young brother love I moved out and started really hangin I needed money of my own so I started slangin I aint guilty cause even though I sell rocks It feels good puttin money in your mailbox I love payin rent when the rent is due I hope you got the diamond necklace that I sent to you Cause when I was low you was there for me And never left me alone because you cared for me And I could see you comin home after work late Youre in the kitchen tryin to fix us a hot plate You just workin with the scraps you was given And Mama made miracles every Thanksgivin But now the road got rough youre alone Youre tryin to raise two bad kids on your own And theres no way I can pay you back but my plan Is to show you that I understand you are appreciatedLady dont you know we love ya Dear Mama Sweet lady place no one above ya You are appreciated Sweet lady dont you know we love yaPour out some liquor and I reminisce Cause through the drama I can always depend on my mama And when it seems that Im hopeless You say the words that can get me back in focus When I was sick as a little kid To keep me happy theres no limit to the things you did And all my childhood memories Are full of all the sweet things you did for me And even though I act crazy I gotta thank the Lord that you made me There are no words that can express how I feel You never kept a secret always stayed real And I appreciate how you raised me And all the extra love that you gave me I wish I could take the pain away If you can make it through the night theres a brighter day Everything will be alright if you hold on Its a struggle every day gotta roll on And theres no way I can pay you back but my plan Is to show you that I understand you are appreciatedLady dont you know we love ya Dear Mama Sweet lady place no one above ya You are appreciated Sweet lady dont you know we love ya Dear Mama Sweet lady lady Dear Mama Lady lady'"
      ]
     },
     "execution_count": 45,
     "metadata": {},
     "output_type": "execute_result"
    }
   ],
   "source": [
    "clean_data.lyrics.loc['tupac']"
   ]
  },
  {
   "cell_type": "markdown",
   "metadata": {},
   "source": [
    "That's beautiful. If you run the last line of code, you will notice that we still have numbers in the text. We don't need numbers, so let's remove them."
   ]
  },
  {
   "cell_type": "code",
   "execution_count": 14,
   "metadata": {},
   "outputs": [],
   "source": [
    "def remove_numerical_values(lyrics):\n",
    "    lyrics = re.sub('\\w*\\d\\w*', '', lyrics)\n",
    "    return lyrics\n",
    "\n",
    "remove_numerical_values_technique = lambda x: remove_numerical_values(x)\n",
    "\n",
    "clean_data = pandas.DataFrame(clean_data.lyrics.apply(remove_numerical_values_technique))"
   ]
  },
  {
   "cell_type": "code",
   "execution_count": 20,
   "metadata": {},
   "outputs": [],
   "source": [
    "#clean_data.lyrics.loc['tupac']"
   ]
  },
  {
   "cell_type": "markdown",
   "metadata": {},
   "source": [
    "Do you see any numbers? I don't. So we are doing good. Let's make all text lowercase now."
   ]
  },
  {
   "cell_type": "code",
   "execution_count": 15,
   "metadata": {},
   "outputs": [],
   "source": [
    "def transform_to_lowercase(lyrics):\n",
    "    lyrics = lyrics.lower()\n",
    "    return lyrics\n",
    "\n",
    "transform_to_lowercase_technique = lambda x: transform_to_lowercase(x)\n",
    "\n",
    "clean_data = pandas.DataFrame(clean_data.lyrics.apply(transform_to_lowercase_technique))"
   ]
  },
  {
   "cell_type": "markdown",
   "metadata": {},
   "source": [
    "Let's check it out."
   ]
  },
  {
   "cell_type": "code",
   "execution_count": 16,
   "metadata": {},
   "outputs": [
    {
     "data": {
      "text/plain": [
       "'look i was gonna go easy on you not to hurt your feelings but im only going to get this one chance somethings wrong i can feel it six minutes six minutes six minutes slim shady youre on just a feeling ive got like somethings about to happen but i dont know what if that means what i think it means were in trouble big trouble and if he is as bananas as you say im not taking any chances you are just what the doc orderedim beginnin to feel like a rap god rap god all my people from the front to the back nod back nod now who thinks their arms are long enough to slap box slap box they said i rap like a robot so call me rapbotbut for me to rap like a computer it must be in my genes i got a laptop in my back pocket my penll go off when i halfcock it got a fat knot from that rap profit made a livin and a killin off it ever since bill clinton was still in office with monica lewinsky feelin on his nutsack im an mc still as honest but as rude and as indecent as all hell syllables skillaholic kill em all with this flippity dippityhippity hiphop you dont really wanna get into a pissin match with this rappity brat packin a mac in the back of the ac backpack rap crap yapyap yacketyyack and at the exact same time i attempt these lyrical acrobat stunts while im practicin that ill still be able to break a motherfuckin table over the back of a couple of faggots and crack it in half only realized it was ironic i was signed to aftermath after the fact how could i not blow all i do is drop fbombs feel my wrath of attack rappers are havin a rough time period heres a maxi pad its actually disastrously bad for the wack while im masterfully constructing this masterpiece ascause im beginnin to feel like a rap god rap god all my people from the front to the back nod back nod now who thinks their arms are long enough to slap box slap box let me show you maintainin this shit aint that hard that hardeverybody wants the key and the secret to rap immortality like ι have got well to be truthful the blueprints simply rage and youthful exuberance everybody loves to root for a nuisance hit the earth like an asteroid did nothing but shoot for the moon since pew mcs get taken to school with this music cause i use it as a vehicle to bus the rhyme now i lead a new school full of students me im a product of rakim lakim shabazz  nwa cube hey doc ren yella eazy thank you they got slim inspired enough to one day grow up blow up and be in a position to meet run–dmc induct them into the motherfuckin rock and roll hall of fame even though ill walk in the church and burst in a ball of flames only hall of fame ill be inducted in is the alcohol of fame on the wall of shame you fags think its all a game til i walk a flock of flames off a plank and tell me what in the fuck are you thinkin little gaylookin boy so gay i can barely say it with a straight face lookin boy youre witnessin a massacre like youre watching a church gathering take place lookin boy oy vey that boys gay—thats all they say lookin boy you get a thumbs up pat on the back and a way to go from your label every day lookin boy hey lookin boy what you say lookin boy i get a hell yeah from dre lookin boy ima work for everything i have never ask nobody for shit get outta my face lookin boy basically boy youre never gonna be capable of keepin up with the same pace lookin boy cause—im beginnin to feel like a rap god rap god all my people from the front to the back nod back nod the way im racin around the track call me nascar nascar dale earnhardt of the trailer park the white trash god kneel before general zod this planets krypton—no asgard asgardso youll be thor and ill be odin you rodent im omnipotent let off then im reloadin immediately with these bombs im totin and i should not be woken im the walkin dead but im just a talkin head a zombie floatin but i got your mom deepthroatin im out my ramen noodle we have nothin in common poodle im a doberman pinch yourself in the arm and pay homage pupil its me my honestys brutal but its honestly futile if i dont utilize what i do though for good at least once in a while so i wanna make sure somewhere in this chicken scratch i scribble and doodle enough rhymes to maybe try to help get some people through tough times but i gotta keep a few punchlines just in case cause even you unsigned rappers are hungry lookin at me like its lunchtime i know there was a time where once i was king of the underground but i still rap like im on my pharoahe monch grind so i crunch rhymes but sometimes when you combine appeal with the skin color of mine you get too big and here they come tryin to censor you like that one line i said on im back from the mathers lp  when i tried to say ill take seven kids from columbine put em all in a line add an  a revolver and a  see if i get away with it now that i aint as big as i was but im morphin into an immortal comin through the portal youre stuck in a time warp from  though and i dont know what the fuck that you rhyme for youre pointless as rapunzel with fuckin cornrows you write normal fuck being normal and i just bought a new raygun from the future just to come and shoot ya like when fabolous made ray j mad cause fab said he looked like a fag at mayweathers pad singin to a man while he played piano man oh man that was a  special on the cable channel so ray j went straight to the radio station the very next day hey fab ima kill you lyrics comin at you at supersonic speed jj fad uh summalumma doomalumma you assumin im a human what i gotta do to get it through to you im superhuman innovative and im made of rubber so that anything you say is ricochetin off of me and itll glue to you and im devastating more than ever demonstrating how to give a motherfuckin audience a feeling like its levitating never fading and i know the haters are forever waiting for the day that they can say i fell off theyll be celebrating cause i know the way to get em motivated i make elevating music you make elevator music oh hes too mainstream well thats what they do when they get jealous they confuse it its not hiphop its pop—cause i found a hella way to fuse it with rock shock rap with doc throw on lose yourself and make em lose it i dont know how to make songs like that i dont know what words to use let me know when it occurs to you while im rippin any one of these verses that versus you its curtains im inadvertently hurtin you how many verses i gotta murder to prove that if you were half as nice your songs you could sacrifice virgins too ugh school flunky pill junkie but look at the accolades these skills brung me full of myself but still hungry i bully myself cause i make me do what i put my mind to and im a million leagues above you ill when i speak in tongues but its still tongueincheek fuck you im drunk so satan take the fucking wheel ima sleep in the front seat bumpin heavy d and the boyz still chunky but funky but in my head theres something i can feel tugging and struggling angels fight with devils and heres what they want from me theyre askin me to eliminate some of the women hate but if you take into consideration the bitter hatred i have then you may be a little patient and more sympathetic to the situation and understand the discrimination but fuck it lifes handin you lemons make lemonade then but if i cant batter the women how the fuck am i supposed to bake them a cake then dont mistake him for satan its a fatal mistake if you think i need to be overseas and take a vacation to trip a broad and make her fall on her face and dont be a retard be a king think not why be a king when you can be a god i am phenomenal with every ounce of my blood with every breath in my lungs wont stop until im phenomenal i am phenomenal however long that it takes ill go to whatever lengths its gonna make me a monster though i am phenomenal but ill never say oh its impossible cause im born to be phenomenalunstoppable unpoppable thought bubbles untoppable thoughts fuckin juggernaut thatll stomp you in a verse obstacles im drawn to em when the going got rough some of what i done fought through was the worst little sissy who the fuck taught you how to persevere there aint no situation that you ever had to respond to thats adverse the messiest thing youve ever gone through was your purse yeah i dont try like hell then i might as well hang it up like a shelf gotta keep growin with it evolve cause you can keep throwin shit at the wall but youre gonna find that nothings gonna stick until you apply yourself time to slip in that zone til i find myself inside the realm of the unknown and boldly go into waters where nobody else has gone before or willing to go uncharted feeling is so bomb im feelin myself im a giant sometimes i gotta remind myself that i ami am phenomenal with every ounce of my blood with every breath in my lungs wont stop until im phenomenal i am phenomenal however long that it takes ill go to whatever lengths its gonna make me a monster though i am phenomenal but ill never say oh its impossible cause im born to be phenomenallet me selfempower you when youre down and theyre tryin to clown the fuck out of you and you feel like youre runnin out of fuel ill show you how to use doubt as fuel convert it to gunpowder too now what you do is put the match to the charcoal fluid put the spark to it like martha stewart barbecuing ah screw it feel like you want to hit that wall then do it punch through it just cock back put your all into it now you gon take that rage and make that what you wage never take back what you say if you stay strapped in your brain engaged in a steel cage match ready to scrap asap take your fists and just ball it show whos big and whos smallest youre christopher wallace now picture em all as plastic and foam lays flat where you put your dinner plates at and set it on em like a placemat i am phenomenal and i want you to say thati am phenomenal with every ounce of my blood with every breath in my lungs wont stop until im phenomenal i am phenomenal however long that it takes ill go to whatever lengths its gonna make me a monster though i am phenomenal but ill never say oh its impossible cause im born to be phenomenaloh step into the unknown and find yourself youre floating freely no emotiongot a fuckin mouth with no shutoff valve cant even cut off power to it but its what allowed me to come up out from under the fuckin ground cause i worked my butt off now its a subject that i dont know how to shut up about cause i stuck it out like a motherfuckin tongue thats how i responded when i got shoved around youre gonna have nonbelievers but when youre beyond belief you probably shouldnt wonder how get it how you live but are you prepared to give more than you get and put in twice what you get back from this shit though what you sacrifice barely is half never give rap is my shiv but its like my shield at the same time i wield and my knife is will sometimes i feel just like b real from cypress hill how i can just kill a cypher survivors guilt i rhyme like life is still an uphill climb ready to face any challenge waitin can taste it its salivation im wagin retaliation look what i have built reputation is validation the only thing im capable of makin is amazing only thing youre capable of makin is a false statement or accusation i am legendary status in fact that is the only way youll ever be able to say youre a legend is makin an allegation i write with the left same hand i hold the mic with as i fight to the death til my last breath manage to prove who the best man is prevail at all costs be the only ones left standin in the end but i aint gonna be the only one with the advantage of knowin what its like to be southpaw cause you can bet your ass youll be left handed cause i ami am phenomenal with every ounce of my blood with every breath in my lungs wont stop until im phenomenal i am phenomenal however long that it takes ill go to whatever lengths its gonna make me a monster though i am phenomenal but ill never say oh its impossible cause im born to be phenomenal im getting by with my wicked ways im loading up and im taking names i wanna dig my way to hell i wanna dig my way to hell im getting by with my wicked ways im loading up and im taking names i wanna dig my way to hell i wanna dig my way to hellguess i got a way with words i could get away with murder ever heard of aspergers its a rare condition its what youre sufferin from when you simply dont care if its an  degree day and theres no frickin air conditionin and you cant see the bitchs hair is frizzin cause you got the windows up blarin the system in your chevrolet prizm the devil aint on a level same as him picture someone who revels in straight masochism and imagine him givin an adjective an asswhoopin so bad they should put his ass in prison a word bully i verbally abuse verbs like they did somethin to me personally used to get bullied so id cut class and ditch it now i bully rap im the shit faggot sniff it cadillac from a k car my ass from a hole in the ground still cant tell em apart came straight out the trailer park screamin im proud to shop at kmart and it became art and im still fed up and as pissed off as they are to this day i still get in fights with the same broad at the same walmart arguin over the same cart in the middle of the aisle whilin i dont give a fuck i dont play bitch you think you saw this basket first youre ass backwards like motherfuckin bob and silent jay illest shit you could think i would say minds like a pile of clay whens the last time that you saw a villain with a cape ripped a gapin hole in it flipped out ripped down the drapes tied em around my neck went down the fire escape of the empire state slipped fell straight down to the ground splattered all over the entire state and straight to hell got impaled by the gates saw satan stuck his face in an ashtray while i sashayed around flames with a match and i gave him the gas face and this aint got nothin to do with a scale or being gay little faggot but by the way thoughts are gettin darker by the day im a combination of skylar grey tyler the creator and violent j its a fuckin miracle to be this lyrical paint my face with clown makeup and a smiley face im insane every rhyme i say sons you like an ultraviolet ray im sellin hatred buffet style all the shit you can eat  so come on and pile a plate im throwin down the gauntlet to see what hell i can raise with the rhyme im spittin while im shittin on competition in the meantime its always mean time im gettin—im getting by with my wicked ways im loading up and im taking names i wanna dig my way to hell i wanna dig my way to hell im getting by with my wicked ways im loading up and im taking names i wanna dig my way to hell i wanna dig my way to hellive been a career asshole i dont see why these people always got my back i done said so much fucked up shit i was born a mistake but i was put here not by accident i had a purpose and that purpose was to beat a beat purplish slaughter tracks i done put my two dimes and a nickel in this shit im comin to get that quarter back like ndamukong the drama can build your mama can ask me for my autograph cause that cougars a milf shes the oldest trick in the book but i sure would fall for that you done brought a bat to a rocket launcher fight when i get on the mic ima snap make you wish the ambulance that took me to the hospital when i overdosed woulda caught a flat if it makes you sick to your stomach acid indigestion my suggestions kaopectate if it feels like im runnin away with the game its cause i am dont speculate spectate all i got is dick for days and insults for decades but i get by with my wicked ways lady you can suck a dick til your neck aches cry til you get puffy eyes red faced but im leavin on this jet plane you aint fly youre an airhead and im sick of poundin a square peg in a round hole sorry another catchphrase but your baggage aint gon fit in my storage overhead space cause it just aint big enough to fit your damaged goods other words dont try to put your heart in a headcase cause baby stable mentally i aint i need my meds i peed my bed im going blind i dont see my legs i keep on falling down no wonder you cant stand me i need my cane someone help me i think my face is melting if you felt these migraines and see these maggots eat my brain this giant hole in my empty head if you read my mind you can see my pain and youd see why i be this way ever since i was kneehigh playin with gi joes told these hoes shut their pie holes now peep my game cause im bout it bout it like a fuckin fuckin echo echo psych psycho on a cyclone cycle spiralin here i go im outta control like no other mic go stab you til the knife goes – dull im nothin but a hole inside your skull where your eye goes cause ima sock it to you dyke ho you dont like it get on your harley davidson menstrual cycle and ride it like a motorbike im finna blow the mic the whole night so strike up the fuckin maestro im nitro and hi ho hand me my shovel im liable to dig my hole deeper and its off to he double hockey sticks i goim getting by with my wicked ways im loading up and im taking names i wanna dig my way to hell i wanna dig my way to hell im getting by with my wicked ways im loading up and im taking names i wanna dig my way to hell i wanna dig my way to hellohh please be empty please be empty please be empty thank you god shit is that a girl im gonna rock this blouse and put a cock in my mouth and get my balls blew out and get gay into the am and lay with eighteen guys naked and let myself show let myself show buttfuck it suck it pull it tug it lifes too short to not stroke your bone so everybody everybody circle jerk touch my body who is that where are you going come back why does everyone always leave me hello fuck you then blow it out your ass here to stay even when im gone when i close my eyes through the passage of time kings never diei can hear the drummer drummin and the trumpets someones tryna summon someone i know somethings comin but im runnin from it to be standing at the summit and plummet how come it wasnt what i thought it was was it too good to be true have nothin get it all but too much of it then lose it again did i swallow hallucinogens cause if not where the hell did it go cause here i sit in lucifers den by the dutch oven just choosing to sin even if it means im sellin my soul just to be the undisputed again do whatever i gotta do just to win cause i got this motherfuckin cloud over my head crown around it thorns on it cracks in it bet you morons didnt think id be back did ya how bout that im somehow now back to the underdog but no matter how loud that i bark this sport is somethin i never bowout at i complain about the game i shout and i pout its a lovehate but i found out that i can move a mountain of doubt even when you bitches are countin me out and i appear to be down for the count only time i ever been out and about is drivin around town with my fuckin whereabouts in a doubt cause i been lost tryna think of what i did to get here but im not a quitter gotta get up give it all i got or give up spit on shit on stepped on but kept goin im tryna be headstrong but it feels like i slept on my neck wrong cause youre moving onto the next but is your respect gone cause someone told me thatkings never diedont give me that sob story liar dont preach to the choir you aint never even had to reach in the fire to dig deep nobody ever handed me shit in life not even a flyer wouldnt even take shit into consideration obliterate anyone in the way i think i see why a lot of rappers get on these features and try to show out on a track with me but itd actually have to be a fuckin blowout to get me to retire tell these new artists that kings never die i know shit has changed in this age fuck a twitter page did it just say ive been upstaged why am i online its driving me crazy im ridin shotgun tryna get a gauge on whats hot but im not one to conform but as days pass in this shit and opinions sway i can hear em say if i stay passionate maybe i can stage a miraculous comeback as if i went away but detractors just say so much for the renegade someones gonna make me blow my composure here i go again center stage and i feel like im in a cage they so want a champion to fall its no wonder why i laugh at em cause why cant we win em all so fuck what these cynics say it just goes to show that when my backs against the wall and im under attack again that ill act as if im posed ta with this pentup rage cause all these plaques in my office on the floor stacked against the door are they just metaphors for the odds of me comin back again cause all the accomplishments accolades awards and trophies they just dont mean jack anymore if im here today and gone tomorrow and im not gonna behere to stay even when im gone when i close my eyes through the passage of time kings never diei want it im comin to get it so you son of a bitches dont duck youre gonna get riddick bowed criticsll end up in critical think your shit is dope all youre gonna get is smoked and i aint stopping til im on top again all alone and on a throne like a token of respect or a homage poem or an ode ive been owed tossed in the air by my own arm and launched so hard it broke my collarbone and when its my time to go im still not leaving stop for no one i dont know but ive been told an obstacle that blocks your road ya knock it over time to go for the pot of gold causethey say kings never die just ask jam master jay they just grow wings and they fly so hands up reach for the sky try to hold on and prolong these moments cause in a blink of an eye theyll be overso youre tryna secure your legacy like shakur and ensure nobodys ever gonna be what you were so before youre leavin this earth you want people to feel the fury of a pure evil cerebral berserk deacon of words syllable genius at work plus im thinkin that theyre mistakin my kindness for weakness kill em with meanness i went from powdered milk and farina to flippin burgers on the grill for some peanuts at gilberts to arenas call me gilbert arenas still appeal to the dreamers i made it to the silverscreen but rockys still what the theme is khalil on the beat cause makin the beat aint the same feelin to me as killin the beat is or fulfillin to me is what fillin a seat is its that soundbombing thirstin howl common underground diamond d outsidaz stomach growl throbbin hunger outrhymin everyone god just give me one shot i swear that i wont let you down ima be around foreverandaday even in the ground you aint never ever gonna hear em say i ainthere to stay even when im gone when i close my eyes through the passage of time kings never diekings never die plane crash yeah illa yo im just gonna write down my first thoughts and see where this takes me cause i feel like i wanna punch the world in the fuckin face right now yeahlet me explain just how to make greatness straight out the gate im bout to break it down aint no mistakes allowed but make no mistake im bout to rape the alphabet i may raise some brows if i press the issue just to get the anger out brrr full magazine could take staples out savage but aint thinkin bout no bank account but bitch im off the chain like kala brown motherfucker shut the fuck up when im talkin lil bitch im sorry wait whats your talent oh critiquin my talent oh bitch i dont know who the fuck yall are to give a subpar bar or even have an opinion or view you mention me millions of views attention in news i mention you loselose for me winwin for you billions of views your ten cents are two skim through the music to give shit reviews to get clicks but bitch you just lit the fuse dont get misconstrued business as us shitlist renewed so get shit to do or get dissed cause i just dont get what the fuck half the shit is that youre listenin to do you have any idea how much i hate this choppy flow everyone copies though probly no get this fuckin audio out my audi yo adiós i can see why people like lil yachty but not me though not even dissin it just aint for me all i am simply is just an emcee maybe stan just isnt your cup of tea get it maybe your cups full of syrup and lean maybe i need to stir up shit preferably shake the world up if it were up to me paul wants me to chill yall want me to ill i should eat a pill probably i will old me killed the new me watch him bleed to death i breathe on the mirror i dont see my breath possibly im dead i must be possessed like an evil spell im evil evil spelled jam a crest whitestrip in the tip of my dick with an ice pick stick it in a vise grip hang it on a spike fence bang it with a pipe wrench while i take my ball sack and flick it like a light switch like vice president mike pence back up on my shit in a sidekick as i lay it on a spike strip these are things that id rather do than hear you on a mic since nine tenths of your rhyme is about ice and jesus christ man how many times is someone gonna fuck on my bitch fuck my side chick you wont ever see em icy but as cold as i get on the mic i polarize shit so the thames might freeze and your skull might split like i bashed you upside it bitch i got the club on smash like a nightstick yeah turn down for what i aint loud enough nah turn the valium up cause i dont know how im gonna get your mouths to shut now when it doesnt matter what caliber i spit at ill bet a hundred thousand bucks youll turn around and just be like man how the fuck sourpuss gonna get mad just cause his album sucks and now he wants to take it out on us ooouuu but last week an exfan mailed me a copy of the mathers lp to tell me to study itll help me get back to myself and shell love me oooouuu i mailed the bitch back and said if i did that id just be like everyone else in the fuckin industry especially an effing recovery clone of me nfing so fingerbang chicken wang mgk igg azae lil pump lil xan imitate lil wayne i should aim at everybody in the game pick a name im fed up with bein humble and rumor is im hungry im sure you heard rumblings i heard you wanna rumble like an empty stomach i heard your mumblin but its jumbled in mumbojumbo the era that im from will pummel you thats what its comin to what the fuck youre gonna do when you run into it im gonna crumble you and ill take a number two and dump on you if you aint joyner if you aint kendrick or cole or sean then youre a goner im bout to bring it to anyone in this bitch who want it i guess when you walk into bk you expect a whopper you can order a quarter pounder when you go to mcdonalds but if youre lookin to get a porterhouse you better go get revival but yall are actin like i tried to serve you up a slider maybe the vocals shoulda been autotuned and you woulda bought it but sayin i no longer got it cause you missed a line and never caught it cause it went over your head because youre too stupid to get it cause youre mentally retarded but pretend to be the smartest with your expertise and knowledge but youll never be an artist and im harder on myself than you could ever be regardless what ill never be is flawless all ill ever be is honest even when im gone theyre gonna say i brought it even when i hit my forties like a fuckin alcoholic with a bottle full of malt liquor but i couldnt bottle this shit any longer the fact that i know that ima hit my bottom if i dont pull myself from the jaws of defeat and rise to my feet i dont see why yall even started with me i get in beefs my enemies die i dont cease fire til at least all are deceased im east side never be caught slippin now you see why i dont sleep not even a wink i dont blink i dont doze off i dont even nod to the beats i dont even close my fuckin eyes when i sneeze aw man that bet cypher was weak it was garbage the thing aint even orange—oh my god thats a reach shout to all my colorblind people each and everyone of yall if you call a fire engine green aquamarine or you think water is pink dawg thats a date  looks like an olive to me look theres an apple no its not its a peach so fingerbang pootie tang burger king gucci gang dookie dang charlamagne gonna hate anyway doesnt matter what i say give me donkey of the day what a way for  to get underway but im gonna say everything that i wanna say welcome to the slaughterhouse bitch yeah invite em in like a one a day im not done preach cause i feel like the beast of burden that line in the sand was it even worth it cause the way i see people turnings makin it seem worthless its startin to defeat the purpose im watchin my fan base shrink to thirds and i was just tryin to do the right thing but word has the court of public opinion reached a verdict or still yet to be determined cause im determined to be me critiqued or worshipped but if i could go back id at least reword it and say i empathize with the people this evil serpent sold the dream to that hes deserted but i think its workin these verses are makin him a wee bit nervous and hes too scurred to answer me with words cause he knows that he will lyrically get murdered but i know at least hes heard it cause agent orange just sent the secret service to meet in person to see if i really think of hurtin him or ask if im linked to terrorists i said only when it comes to ink and lyricists but my beef is more media journalists hold up hold up hold up i said my beef is more meaty a journalist can get a mouthful of flesh and yes i mean eatin a penis cause they been pannin my album to death so i been givin the media fingers dont wanna turn this to a counseling sesh but they been puttin me through the ringer so i aint ironin shit out with the press but i just took this beat to the cleaners'"
      ]
     },
     "execution_count": 16,
     "metadata": {},
     "output_type": "execute_result"
    }
   ],
   "source": [
    "clean_data.lyrics.loc['eminem']"
   ]
  },
  {
   "cell_type": "markdown",
   "metadata": {},
   "source": [
    "We will now add the full artist name of the rappers in our dataframe."
   ]
  },
  {
   "cell_type": "code",
   "execution_count": 19,
   "metadata": {
    "scrolled": true
   },
   "outputs": [
    {
     "data": {
      "text/html": [
       "<div>\n",
       "<style scoped>\n",
       "    .dataframe tbody tr th:only-of-type {\n",
       "        vertical-align: middle;\n",
       "    }\n",
       "\n",
       "    .dataframe tbody tr th {\n",
       "        vertical-align: top;\n",
       "    }\n",
       "\n",
       "    .dataframe thead th {\n",
       "        text-align: right;\n",
       "    }\n",
       "</style>\n",
       "<table border=\"1\" class=\"dataframe\">\n",
       "  <thead>\n",
       "    <tr style=\"text-align: right;\">\n",
       "      <th></th>\n",
       "      <th>lyrics</th>\n",
       "      <th>name</th>\n",
       "    </tr>\n",
       "  </thead>\n",
       "  <tbody>\n",
       "    <tr>\n",
       "      <th>biggie</th>\n",
       "      <td>the ten crack commandments what nigga cant tell me nothing about this coke cant tell me nothing about this crack this weed for my hustlin...</td>\n",
       "      <td>The Notorious B.I.G.</td>\n",
       "    </tr>\n",
       "    <tr>\n",
       "      <th>eminem</th>\n",
       "      <td>look i was gonna go easy on you not to hurt your feelings but im only going to get this one chance somethings wrong i can feel it six minutes six ...</td>\n",
       "      <td>Eminem</td>\n",
       "    </tr>\n",
       "    <tr>\n",
       "      <th>fifty</th>\n",
       "      <td>man we gotta go get somethin to eat man im hungry as a motherfucker ayo man damn whats takin homie so long son  calm down he coming  gunshots ahh ...</td>\n",
       "      <td>50 Cent</td>\n",
       "    </tr>\n",
       "    <tr>\n",
       "      <th>game</th>\n",
       "      <td>im a bldoubleod been on songs with sndoubleop inside a ferrari with the dre run up i let it sing like nate dodoubleg walk through  mile gunits on ...</td>\n",
       "      <td>The Game</td>\n",
       "    </tr>\n",
       "    <tr>\n",
       "      <th>nas</th>\n",
       "      <td>but thats the whole tragic point my friends what would i do if i could suddenly feel and to know once again that what i feel is real i could cry i...</td>\n",
       "      <td>Nas</td>\n",
       "    </tr>\n",
       "    <tr>\n",
       "      <th>snoop</th>\n",
       "      <td>ugh hahaha im serious nigga one of yall niggas got some bad motherfuckin breath oh man aye baby aye baby shit aye baby get some bubblegum in this ...</td>\n",
       "      <td>Snoop Doggy Dogg</td>\n",
       "    </tr>\n",
       "    <tr>\n",
       "      <th>tupac</th>\n",
       "      <td>how many brothers fell victim to the streets rest in peace young nigga theres a heaven for a g be a lie if i told you that i never thought of deat...</td>\n",
       "      <td>Tupac Amaru</td>\n",
       "    </tr>\n",
       "  </tbody>\n",
       "</table>\n",
       "</div>"
      ],
      "text/plain": [
       "                                                                                                                                                       lyrics  \\\n",
       "biggie           the ten crack commandments what nigga cant tell me nothing about this coke cant tell me nothing about this crack this weed for my hustlin...   \n",
       "eminem  look i was gonna go easy on you not to hurt your feelings but im only going to get this one chance somethings wrong i can feel it six minutes six ...   \n",
       "fifty   man we gotta go get somethin to eat man im hungry as a motherfucker ayo man damn whats takin homie so long son  calm down he coming  gunshots ahh ...   \n",
       "game    im a bldoubleod been on songs with sndoubleop inside a ferrari with the dre run up i let it sing like nate dodoubleg walk through  mile gunits on ...   \n",
       "nas     but thats the whole tragic point my friends what would i do if i could suddenly feel and to know once again that what i feel is real i could cry i...   \n",
       "snoop   ugh hahaha im serious nigga one of yall niggas got some bad motherfuckin breath oh man aye baby aye baby shit aye baby get some bubblegum in this ...   \n",
       "tupac   how many brothers fell victim to the streets rest in peace young nigga theres a heaven for a g be a lie if i told you that i never thought of deat...   \n",
       "\n",
       "                        name  \n",
       "biggie  The Notorious B.I.G.  \n",
       "eminem                Eminem  \n",
       "fifty                50 Cent  \n",
       "game                The Game  \n",
       "nas                      Nas  \n",
       "snoop       Snoop Doggy Dogg  \n",
       "tupac            Tupac Amaru  "
      ]
     },
     "execution_count": 19,
     "metadata": {},
     "output_type": "execute_result"
    }
   ],
   "source": [
    "rappers_full_names = ['The Notorious B.I.G.', 'Eminem', '50 Cent', 'The Game', 'Nas', 'Snoop Doggy Dogg', 'Tupac Amaru']\n",
    "\n",
    "clean_data['name'] = rappers_full_names\n",
    "\n",
    "clean_data.to_pickle(\"corpus.pkl\")\n",
    "\n",
    "clean_data"
   ]
  },
  {
   "cell_type": "markdown",
   "metadata": {},
   "source": [
    "Now let's move on to the last step of our data cleaning process: remove stop words. But, before we do that, we have to organize our data in a word matrix. We will use CountVectorizer to tokenize the lyrics and we can remove the stop words with the same module. Every row will contain data for a rapper and every column will be a different word."
   ]
  },
  {
   "cell_type": "code",
   "execution_count": 20,
   "metadata": {},
   "outputs": [],
   "source": [
    "cv = CountVectorizer(stop_words='english')\n",
    "tokenized_data = cv.fit_transform(clean_data.lyrics)\n",
    "word_matrix = pandas.DataFrame(tokenized_data.toarray(), columns=cv.get_feature_names())\n",
    "word_matrix.index = clean_data.index"
   ]
  },
  {
   "cell_type": "markdown",
   "metadata": {},
   "source": [
    "Let's see our word matrix:"
   ]
  },
  {
   "cell_type": "code",
   "execution_count": 21,
   "metadata": {},
   "outputs": [
    {
     "data": {
      "text/html": [
       "<div>\n",
       "<style scoped>\n",
       "    .dataframe tbody tr th:only-of-type {\n",
       "        vertical-align: middle;\n",
       "    }\n",
       "\n",
       "    .dataframe tbody tr th {\n",
       "        vertical-align: top;\n",
       "    }\n",
       "\n",
       "    .dataframe thead th {\n",
       "        text-align: right;\n",
       "    }\n",
       "</style>\n",
       "<table border=\"1\" class=\"dataframe\">\n",
       "  <thead>\n",
       "    <tr style=\"text-align: right;\">\n",
       "      <th></th>\n",
       "      <th>aaaahif</th>\n",
       "      <th>abandoned</th>\n",
       "      <th>able</th>\n",
       "      <th>abuse</th>\n",
       "      <th>ac</th>\n",
       "      <th>accident</th>\n",
       "      <th>accolades</th>\n",
       "      <th>accomplishments</th>\n",
       "      <th>account</th>\n",
       "      <th>accountant</th>\n",
       "      <th>...</th>\n",
       "      <th>yous</th>\n",
       "      <th>youthful</th>\n",
       "      <th>youve</th>\n",
       "      <th>youyeah</th>\n",
       "      <th>zags</th>\n",
       "      <th>zeros</th>\n",
       "      <th>zod</th>\n",
       "      <th>zombie</th>\n",
       "      <th>zone</th>\n",
       "      <th>zé</th>\n",
       "    </tr>\n",
       "  </thead>\n",
       "  <tbody>\n",
       "    <tr>\n",
       "      <th>biggie</th>\n",
       "      <td>0</td>\n",
       "      <td>0</td>\n",
       "      <td>0</td>\n",
       "      <td>0</td>\n",
       "      <td>1</td>\n",
       "      <td>0</td>\n",
       "      <td>0</td>\n",
       "      <td>0</td>\n",
       "      <td>0</td>\n",
       "      <td>1</td>\n",
       "      <td>...</td>\n",
       "      <td>3</td>\n",
       "      <td>0</td>\n",
       "      <td>0</td>\n",
       "      <td>0</td>\n",
       "      <td>0</td>\n",
       "      <td>0</td>\n",
       "      <td>0</td>\n",
       "      <td>0</td>\n",
       "      <td>0</td>\n",
       "      <td>0</td>\n",
       "    </tr>\n",
       "    <tr>\n",
       "      <th>eminem</th>\n",
       "      <td>0</td>\n",
       "      <td>0</td>\n",
       "      <td>2</td>\n",
       "      <td>1</td>\n",
       "      <td>1</td>\n",
       "      <td>1</td>\n",
       "      <td>2</td>\n",
       "      <td>1</td>\n",
       "      <td>1</td>\n",
       "      <td>0</td>\n",
       "      <td>...</td>\n",
       "      <td>0</td>\n",
       "      <td>1</td>\n",
       "      <td>1</td>\n",
       "      <td>0</td>\n",
       "      <td>0</td>\n",
       "      <td>0</td>\n",
       "      <td>1</td>\n",
       "      <td>1</td>\n",
       "      <td>1</td>\n",
       "      <td>0</td>\n",
       "    </tr>\n",
       "    <tr>\n",
       "      <th>fifty</th>\n",
       "      <td>0</td>\n",
       "      <td>0</td>\n",
       "      <td>0</td>\n",
       "      <td>0</td>\n",
       "      <td>0</td>\n",
       "      <td>0</td>\n",
       "      <td>0</td>\n",
       "      <td>0</td>\n",
       "      <td>0</td>\n",
       "      <td>0</td>\n",
       "      <td>...</td>\n",
       "      <td>12</td>\n",
       "      <td>0</td>\n",
       "      <td>0</td>\n",
       "      <td>1</td>\n",
       "      <td>0</td>\n",
       "      <td>0</td>\n",
       "      <td>0</td>\n",
       "      <td>0</td>\n",
       "      <td>0</td>\n",
       "      <td>0</td>\n",
       "    </tr>\n",
       "    <tr>\n",
       "      <th>game</th>\n",
       "      <td>1</td>\n",
       "      <td>1</td>\n",
       "      <td>0</td>\n",
       "      <td>0</td>\n",
       "      <td>0</td>\n",
       "      <td>0</td>\n",
       "      <td>0</td>\n",
       "      <td>0</td>\n",
       "      <td>0</td>\n",
       "      <td>0</td>\n",
       "      <td>...</td>\n",
       "      <td>0</td>\n",
       "      <td>0</td>\n",
       "      <td>0</td>\n",
       "      <td>0</td>\n",
       "      <td>0</td>\n",
       "      <td>0</td>\n",
       "      <td>0</td>\n",
       "      <td>0</td>\n",
       "      <td>0</td>\n",
       "      <td>0</td>\n",
       "    </tr>\n",
       "    <tr>\n",
       "      <th>nas</th>\n",
       "      <td>0</td>\n",
       "      <td>0</td>\n",
       "      <td>0</td>\n",
       "      <td>0</td>\n",
       "      <td>0</td>\n",
       "      <td>0</td>\n",
       "      <td>0</td>\n",
       "      <td>0</td>\n",
       "      <td>0</td>\n",
       "      <td>0</td>\n",
       "      <td>...</td>\n",
       "      <td>0</td>\n",
       "      <td>0</td>\n",
       "      <td>0</td>\n",
       "      <td>0</td>\n",
       "      <td>0</td>\n",
       "      <td>1</td>\n",
       "      <td>0</td>\n",
       "      <td>0</td>\n",
       "      <td>0</td>\n",
       "      <td>1</td>\n",
       "    </tr>\n",
       "    <tr>\n",
       "      <th>snoop</th>\n",
       "      <td>0</td>\n",
       "      <td>0</td>\n",
       "      <td>0</td>\n",
       "      <td>0</td>\n",
       "      <td>0</td>\n",
       "      <td>0</td>\n",
       "      <td>0</td>\n",
       "      <td>0</td>\n",
       "      <td>0</td>\n",
       "      <td>0</td>\n",
       "      <td>...</td>\n",
       "      <td>0</td>\n",
       "      <td>0</td>\n",
       "      <td>0</td>\n",
       "      <td>0</td>\n",
       "      <td>1</td>\n",
       "      <td>0</td>\n",
       "      <td>0</td>\n",
       "      <td>0</td>\n",
       "      <td>1</td>\n",
       "      <td>0</td>\n",
       "    </tr>\n",
       "    <tr>\n",
       "      <th>tupac</th>\n",
       "      <td>0</td>\n",
       "      <td>0</td>\n",
       "      <td>0</td>\n",
       "      <td>0</td>\n",
       "      <td>0</td>\n",
       "      <td>0</td>\n",
       "      <td>0</td>\n",
       "      <td>0</td>\n",
       "      <td>0</td>\n",
       "      <td>0</td>\n",
       "      <td>...</td>\n",
       "      <td>0</td>\n",
       "      <td>0</td>\n",
       "      <td>2</td>\n",
       "      <td>0</td>\n",
       "      <td>0</td>\n",
       "      <td>0</td>\n",
       "      <td>0</td>\n",
       "      <td>0</td>\n",
       "      <td>1</td>\n",
       "      <td>0</td>\n",
       "    </tr>\n",
       "  </tbody>\n",
       "</table>\n",
       "<p>7 rows × 3890 columns</p>\n",
       "</div>"
      ],
      "text/plain": [
       "        aaaahif  abandoned  able  abuse  ac  accident  accolades  \\\n",
       "biggie        0          0     0      0   1         0          0   \n",
       "eminem        0          0     2      1   1         1          2   \n",
       "fifty         0          0     0      0   0         0          0   \n",
       "game          1          1     0      0   0         0          0   \n",
       "nas           0          0     0      0   0         0          0   \n",
       "snoop         0          0     0      0   0         0          0   \n",
       "tupac         0          0     0      0   0         0          0   \n",
       "\n",
       "        accomplishments  account  accountant  ...  yous  youthful  youve  \\\n",
       "biggie                0        0           1  ...     3         0      0   \n",
       "eminem                1        1           0  ...     0         1      1   \n",
       "fifty                 0        0           0  ...    12         0      0   \n",
       "game                  0        0           0  ...     0         0      0   \n",
       "nas                   0        0           0  ...     0         0      0   \n",
       "snoop                 0        0           0  ...     0         0      0   \n",
       "tupac                 0        0           0  ...     0         0      2   \n",
       "\n",
       "        youyeah  zags  zeros  zod  zombie  zone  zé  \n",
       "biggie        0     0      0    0       0     0   0  \n",
       "eminem        0     0      0    1       1     1   0  \n",
       "fifty         1     0      0    0       0     0   0  \n",
       "game          0     0      0    0       0     0   0  \n",
       "nas           0     0      1    0       0     0   1  \n",
       "snoop         0     1      0    0       0     1   0  \n",
       "tupac         0     0      0    0       0     1   0  \n",
       "\n",
       "[7 rows x 3890 columns]"
      ]
     },
     "execution_count": 21,
     "metadata": {},
     "output_type": "execute_result"
    }
   ],
   "source": [
    "word_matrix"
   ]
  },
  {
   "cell_type": "markdown",
   "metadata": {},
   "source": [
    "Finally, we will save all data to files:"
   ]
  },
  {
   "cell_type": "code",
   "execution_count": 22,
   "metadata": {},
   "outputs": [],
   "source": [
    "word_matrix.to_pickle(\"word_matrix.pkl\")\n",
    "\n",
    "clean_data.to_pickle('clean_data.pkl')\n",
    "pickle.dump(cv, open(\"cv.pkl\", \"wb\"))"
   ]
  },
  {
   "cell_type": "code",
   "execution_count": null,
   "metadata": {},
   "outputs": [],
   "source": []
  }
 ],
 "metadata": {
  "kernelspec": {
   "display_name": "Python 3",
   "language": "python",
   "name": "python3"
  },
  "language_info": {
   "codemirror_mode": {
    "name": "ipython",
    "version": 3
   },
   "file_extension": ".py",
   "mimetype": "text/x-python",
   "name": "python",
   "nbconvert_exporter": "python",
   "pygments_lexer": "ipython3",
   "version": "3.7.3"
  }
 },
 "nbformat": 4,
 "nbformat_minor": 2
}
